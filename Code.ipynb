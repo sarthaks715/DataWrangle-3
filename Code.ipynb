{
 "cells": [
  {
   "cell_type": "markdown",
   "metadata": {},
   "source": [
    "<div class=\"alert alert-block alert-info\">\n",
    "\n",
    "# ASSIGNMENT 3 \n",
    "\n",
    "#                               NAME : SARTHAK SAREEN\n",
    "\n",
    "#                                  STUDENT ID : 30761182\n",
    "</div>"
   ]
  },
  {
   "cell_type": "markdown",
   "metadata": {},
   "source": [
    "<div class=\"alert alert-block alert-success\">\n",
    "    \n",
    "# 1. LIBRARIES USED :\n",
    "\n",
    "</div>   "
   ]
  },
  {
   "cell_type": "code",
   "execution_count": 1,
   "metadata": {},
   "outputs": [
    {
     "name": "stderr",
     "output_type": "stream",
     "text": [
      "C:\\Users\\Sarthak\\Anaconda3\\lib\\site-packages\\statsmodels\\tools\\_testing.py:19: FutureWarning: pandas.util.testing is deprecated. Use the functions in the public API at pandas.testing instead.\n",
      "  import pandas.util.testing as tm\n"
     ]
    }
   ],
   "source": [
    "import pandas as pd\n",
    "import math\n",
    "import numpy as np\n",
    "import json\n",
    "from urllib.request import urlopen\n",
    "from bs4 import BeautifulSoup\n",
    "import re\n",
    "import tabula\n",
    "import pandas as pd\n",
    "import xml.etree.ElementTree as ET\n",
    "from math import sqrt\n",
    "from re import match\n",
    "import datetime\n",
    "import numpy\n",
    "import matplotlib \n",
    "%matplotlib inline\n",
    "import shapefile\n",
    "import matplotlib.pyplot as plt\n",
    "import matplotlib.patches as patches\n",
    "from matplotlib.patches import Polygon\n",
    "from matplotlib.collections import PatchCollection\n",
    "import shapely\n",
    "from shapely.geometry import Point\n",
    "from sklearn import preprocessing\n",
    "import seaborn as sns\n",
    "import warnings\n",
    "warnings.filterwarnings('ignore')"
   ]
  },
  {
   "cell_type": "markdown",
   "metadata": {},
   "source": [
    " <div class=\"alert alert-block alert-success\">\n",
    "    \n",
    "  # 2. INTRODUCTION :"
   ]
  },
  {
   "cell_type": "markdown",
   "metadata": {},
   "source": [
    "The assignment contains two tasks in which task 1 includes the data integration part and the part two includes the data reshaping of the file.\n",
    "In task 1 we have to read 7 datafiles with different format and make a file dataframe which will include all the columns according to the metadata given in which are calculated the min distance and the nearesh shopping center, train station id, supermarkets etc.\n",
    "In task 2 we have apply different different normalization/transformation techiques to our final dataframe which contains the standardization, minmax normalization, log, power, box-cox transformation) on the teh columns which are price, Distance_to_sc, travel_min_to_CBD, and Distance_to_hospital. "
   ]
  },
  {
   "cell_type": "markdown",
   "metadata": {},
   "source": [
    " <div class=\"alert alert-block alert-success\">\n",
    "    \n",
    "   ## 2.1 TASK 1 - \n",
    "   </div>"
   ]
  },
  {
   "cell_type": "markdown",
   "metadata": {},
   "source": [
    " <div class=\"alert alert-block alert-success\">\n",
    "    \n",
    "  ### 2.1.1 READING THE FILES INTO DATAFRAMES"
   ]
  },
  {
   "cell_type": "code",
   "execution_count": 2,
   "metadata": {},
   "outputs": [
    {
     "data": {
      "text/html": [
       "<div>\n",
       "<style scoped>\n",
       "    .dataframe tbody tr th:only-of-type {\n",
       "        vertical-align: middle;\n",
       "    }\n",
       "\n",
       "    .dataframe tbody tr th {\n",
       "        vertical-align: top;\n",
       "    }\n",
       "\n",
       "    .dataframe thead th {\n",
       "        text-align: right;\n",
       "    }\n",
       "</style>\n",
       "<table border=\"1\" class=\"dataframe\">\n",
       "  <thead>\n",
       "    <tr style=\"text-align: right;\">\n",
       "      <th></th>\n",
       "      <th>property_id</th>\n",
       "      <th>lat</th>\n",
       "      <th>lng</th>\n",
       "      <th>addr_street</th>\n",
       "      <th>price</th>\n",
       "      <th>property_type</th>\n",
       "      <th>year</th>\n",
       "      <th>bedrooms</th>\n",
       "      <th>bathrooms</th>\n",
       "      <th>parking_space</th>\n",
       "    </tr>\n",
       "  </thead>\n",
       "  <tbody>\n",
       "    <tr>\n",
       "      <th>178</th>\n",
       "      <td>75492</td>\n",
       "      <td>-37.887530</td>\n",
       "      <td>145.052292</td>\n",
       "      <td>81 Mimosa Road</td>\n",
       "      <td>19380000</td>\n",
       "      <td>house</td>\n",
       "      <td>2015</td>\n",
       "      <td>3</td>\n",
       "      <td>2</td>\n",
       "      <td>2</td>\n",
       "    </tr>\n",
       "    <tr>\n",
       "      <th>835</th>\n",
       "      <td>40113</td>\n",
       "      <td>-37.696526</td>\n",
       "      <td>145.044800</td>\n",
       "      <td>23 Glenn Crescent</td>\n",
       "      <td>3132000</td>\n",
       "      <td>house</td>\n",
       "      <td>2009</td>\n",
       "      <td>3</td>\n",
       "      <td>1</td>\n",
       "      <td>1</td>\n",
       "    </tr>\n",
       "    <tr>\n",
       "      <th>913</th>\n",
       "      <td>70947</td>\n",
       "      <td>-37.852194</td>\n",
       "      <td>145.239719</td>\n",
       "      <td>1 Chartwell Drive</td>\n",
       "      <td>7452000</td>\n",
       "      <td>house</td>\n",
       "      <td>2015</td>\n",
       "      <td>3</td>\n",
       "      <td>1</td>\n",
       "      <td>2</td>\n",
       "    </tr>\n",
       "    <tr>\n",
       "      <th>937</th>\n",
       "      <td>55517</td>\n",
       "      <td>-37.846604</td>\n",
       "      <td>145.072575</td>\n",
       "      <td>31 Halley Avenue</td>\n",
       "      <td>27840000</td>\n",
       "      <td>house</td>\n",
       "      <td>2016</td>\n",
       "      <td>4</td>\n",
       "      <td>3</td>\n",
       "      <td>3</td>\n",
       "    </tr>\n",
       "    <tr>\n",
       "      <th>961</th>\n",
       "      <td>23368</td>\n",
       "      <td>-37.651905</td>\n",
       "      <td>144.905502</td>\n",
       "      <td>11 Millport Rise</td>\n",
       "      <td>4200000</td>\n",
       "      <td>house</td>\n",
       "      <td>2008</td>\n",
       "      <td>5</td>\n",
       "      <td>3</td>\n",
       "      <td>3</td>\n",
       "    </tr>\n",
       "    <tr>\n",
       "      <th>1009</th>\n",
       "      <td>82581</td>\n",
       "      <td>-37.902664</td>\n",
       "      <td>145.274865</td>\n",
       "      <td>15 Jubilee Drive</td>\n",
       "      <td>5144000</td>\n",
       "      <td>house</td>\n",
       "      <td>2012</td>\n",
       "      <td>4</td>\n",
       "      <td>2</td>\n",
       "      <td>2</td>\n",
       "    </tr>\n",
       "  </tbody>\n",
       "</table>\n",
       "</div>"
      ],
      "text/plain": [
       "      property_id        lat         lng        addr_street     price  \\\n",
       "178         75492 -37.887530  145.052292     81 Mimosa Road  19380000   \n",
       "835         40113 -37.696526  145.044800  23 Glenn Crescent   3132000   \n",
       "913         70947 -37.852194  145.239719  1 Chartwell Drive   7452000   \n",
       "937         55517 -37.846604  145.072575   31 Halley Avenue  27840000   \n",
       "961         23368 -37.651905  144.905502   11 Millport Rise   4200000   \n",
       "1009        82581 -37.902664  145.274865   15 Jubilee Drive   5144000   \n",
       "\n",
       "     property_type  year  bedrooms  bathrooms  parking_space  \n",
       "178          house  2015         3          2              2  \n",
       "835          house  2009         3          1              1  \n",
       "913          house  2015         3          1              2  \n",
       "937          house  2016         4          3              3  \n",
       "961          house  2008         5          3              3  \n",
       "1009         house  2012         4          2              2  "
      ]
     },
     "execution_count": 2,
     "metadata": {},
     "output_type": "execute_result"
    }
   ],
   "source": [
    "#Reading the file\n",
    "df_real_state_json = pd.read_json('real_state.json')\n",
    "df_real_state_json[df_real_state_json.duplicated()]"
   ]
  },
  {
   "cell_type": "markdown",
   "metadata": {},
   "source": [
    "In the above cell the real_state.json file is being reading using the pandas and a dataframe is being created of the file real_state.json.\n",
    "\n",
    "To find the duplicate values in the dataframe, duplicated() will be used to give the duplicated rows in the dataframe."
   ]
  },
  {
   "cell_type": "code",
   "execution_count": 3,
   "metadata": {},
   "outputs": [],
   "source": [
    "df_real_state_json.drop_duplicates(inplace=True)"
   ]
  },
  {
   "cell_type": "markdown",
   "metadata": {},
   "source": [
    "In the above cell the dupicated rows of the dataframe is being deleted from the dataframe using the function drop_dupicates in the dataframe only."
   ]
  },
  {
   "cell_type": "code",
   "execution_count": 4,
   "metadata": {},
   "outputs": [
    {
     "data": {
      "text/html": [
       "<div>\n",
       "<style scoped>\n",
       "    .dataframe tbody tr th:only-of-type {\n",
       "        vertical-align: middle;\n",
       "    }\n",
       "\n",
       "    .dataframe tbody tr th {\n",
       "        vertical-align: top;\n",
       "    }\n",
       "\n",
       "    .dataframe thead th {\n",
       "        text-align: right;\n",
       "    }\n",
       "</style>\n",
       "<table border=\"1\" class=\"dataframe\">\n",
       "  <thead>\n",
       "    <tr style=\"text-align: right;\">\n",
       "      <th></th>\n",
       "      <th>id</th>\n",
       "      <th>lat</th>\n",
       "      <th>lng</th>\n",
       "      <th>type</th>\n",
       "    </tr>\n",
       "  </thead>\n",
       "  <tbody>\n",
       "  </tbody>\n",
       "</table>\n",
       "</div>"
      ],
      "text/plain": [
       "Empty DataFrame\n",
       "Columns: [id, lat, lng, type]\n",
       "Index: []"
      ]
     },
     "execution_count": 4,
     "metadata": {},
     "output_type": "execute_result"
    }
   ],
   "source": [
    "#Reading the file\n",
    "list_sh_market = tabula.read_pdf(\"supermarkets.pdf\", pages='all')\n",
    "df_supermarket = pd.concat(list_sh_market)\n",
    "df_supermarket.drop('Unnamed: 0',axis=1,inplace=True)\n",
    "df_supermarket = df_supermarket.reset_index(drop=True)\n",
    "df_supermarket[df_supermarket.duplicated()]"
   ]
  },
  {
   "cell_type": "markdown",
   "metadata": {},
   "source": [
    "In the above cell the pdf file is being read into the dataframe using the library tabula andthe function using the read_pdf() from the tabula library and giving the argument how=\"all\" to read all the pages of the pdf file.\n",
    "After reading the file we get list of dataframes. To make one datframe from the list of dataframes we use pd.concate() which will give dataframe with all the dataframes which where there in the list of dataframes.\n",
    "Droping the not required columns from the dataframe.\n",
    "Checking the dupicate values in the dataframe. As seen in the above cell there are no duplicated rows in the dataframe."
   ]
  },
  {
   "cell_type": "code",
   "execution_count": 5,
   "metadata": {},
   "outputs": [
    {
     "data": {
      "text/html": [
       "<div>\n",
       "<style scoped>\n",
       "    .dataframe tbody tr th:only-of-type {\n",
       "        vertical-align: middle;\n",
       "    }\n",
       "\n",
       "    .dataframe tbody tr th {\n",
       "        vertical-align: top;\n",
       "    }\n",
       "\n",
       "    .dataframe thead th {\n",
       "        text-align: right;\n",
       "    }\n",
       "</style>\n",
       "<table border=\"1\" class=\"dataframe\">\n",
       "  <thead>\n",
       "    <tr style=\"text-align: right;\">\n",
       "      <th></th>\n",
       "      <th>id</th>\n",
       "      <th>lat</th>\n",
       "      <th>lng</th>\n",
       "      <th>name</th>\n",
       "    </tr>\n",
       "  </thead>\n",
       "  <tbody>\n",
       "  </tbody>\n",
       "</table>\n",
       "</div>"
      ],
      "text/plain": [
       "Empty DataFrame\n",
       "Columns: [id, lat, lng, name]\n",
       "Index: []"
      ]
     },
     "execution_count": 5,
     "metadata": {},
     "output_type": "execute_result"
    }
   ],
   "source": [
    "#Reading the file\n",
    "df_hospital = pd.read_excel('hospitals.xlsx')\n",
    "df_hospital.drop('Unnamed: 0',axis=1,inplace=True)\n",
    "df_hospital[df_hospital.duplicated()]"
   ]
  },
  {
   "cell_type": "markdown",
   "metadata": {},
   "source": [
    "In the above cell the xlsx file is being read into the dataframeusing the pandas librarby and teh function is being is used is read_excel(). Droping the not required coloumns from the dataframe. Checking the duplicated rows in the dataframe using duplicated(). As seen in the above cell there are no duplicated rows in the dataframe of the hosiptals file."
   ]
  },
  {
   "cell_type": "code",
   "execution_count": 6,
   "metadata": {},
   "outputs": [
    {
     "data": {
      "text/html": [
       "<div>\n",
       "<style scoped>\n",
       "    .dataframe tbody tr th:only-of-type {\n",
       "        vertical-align: middle;\n",
       "    }\n",
       "\n",
       "    .dataframe tbody tr th {\n",
       "        vertical-align: top;\n",
       "    }\n",
       "\n",
       "    .dataframe thead th {\n",
       "        text-align: right;\n",
       "    }\n",
       "</style>\n",
       "<table border=\"1\" class=\"dataframe\">\n",
       "  <thead>\n",
       "    <tr style=\"text-align: right;\">\n",
       "      <th></th>\n",
       "      <th>sc_id</th>\n",
       "      <th>lat</th>\n",
       "      <th>lng</th>\n",
       "    </tr>\n",
       "  </thead>\n",
       "  <tbody>\n",
       "  </tbody>\n",
       "</table>\n",
       "</div>"
      ],
      "text/plain": [
       "Empty DataFrame\n",
       "Columns: [sc_id, lat, lng]\n",
       "Index: []"
      ]
     },
     "execution_count": 6,
     "metadata": {},
     "output_type": "execute_result"
    }
   ],
   "source": [
    "#Reading the file\n",
    "table = BeautifulSoup(open('shopingcenters.html','r').read()).find('table')\n",
    "list_sh_centers = pd.read_html(str(table))\n",
    "df_shopping_center = pd.concat(list_sh_centers)\n",
    "df_shopping_center.drop('Unnamed: 0',axis=1,inplace=True)\n",
    "df_shopping_center[df_shopping_center.duplicated()]"
   ]
  },
  {
   "cell_type": "markdown",
   "metadata": {},
   "source": [
    "In the above cell the html file i.e shopping center file is being read using the function beautiful soup and using the .find() it finds the tables in the html file. using the pd.concat function the final dataframe is being made that contains the shopping centers details.\n",
    "droping the not required columns from the dataframe. For checking the duplicated rows into the duplicated function is being used. As we can see that there are no dupicted rows in the dataframe which contains the shopping centers data."
   ]
  },
  {
   "cell_type": "code",
   "execution_count": 7,
   "metadata": {
    "scrolled": false
   },
   "outputs": [
    {
     "data": {
      "text/html": [
       "<div>\n",
       "<style scoped>\n",
       "    .dataframe tbody tr th:only-of-type {\n",
       "        vertical-align: middle;\n",
       "    }\n",
       "\n",
       "    .dataframe tbody tr th {\n",
       "        vertical-align: top;\n",
       "    }\n",
       "\n",
       "    .dataframe thead th {\n",
       "        text-align: right;\n",
       "    }\n",
       "</style>\n",
       "<table border=\"1\" class=\"dataframe\">\n",
       "  <thead>\n",
       "    <tr style=\"text-align: right;\">\n",
       "      <th></th>\n",
       "      <th>property_id</th>\n",
       "      <th>lat</th>\n",
       "      <th>lng</th>\n",
       "      <th>addr_street</th>\n",
       "      <th>price</th>\n",
       "      <th>property_type</th>\n",
       "      <th>year</th>\n",
       "      <th>bedrooms</th>\n",
       "      <th>bathrooms</th>\n",
       "      <th>parking_space</th>\n",
       "    </tr>\n",
       "  </thead>\n",
       "  <tbody>\n",
       "  </tbody>\n",
       "</table>\n",
       "</div>"
      ],
      "text/plain": [
       "Empty DataFrame\n",
       "Columns: [property_id, lat, lng, addr_street, price, property_type, year, bedrooms, bathrooms, parking_space]\n",
       "Index: []"
      ]
     },
     "execution_count": 7,
     "metadata": {},
     "output_type": "execute_result"
    }
   ],
   "source": [
    "#Reading the file\n",
    "with open('real_state.xml')  as f:\n",
    "    string_xml = f.read()\n",
    "string_xml = string_xml[2:-1]\n",
    "tree = ET.ElementTree(ET.fromstring(string_xml))\n",
    "root = tree.getroot()\n",
    "val=[]\n",
    "df_real_state_xml = pd.DataFrame()\n",
    "for x in range(len(root)):\n",
    "    val =[]\n",
    "    for i in range(len(root[x])):\n",
    "        val.append(root[x][i].text)\n",
    "    df_real_state_xml[root[x].tag] = pd.Series(val)\n",
    "df_real_state_xml[df_real_state_xml.duplicated()]"
   ]
  },
  {
   "cell_type": "markdown",
   "metadata": {},
   "source": [
    "In the above cell the xml file which is real_state.sml is being read. First the file is being read using the.read(). After that the string is siced as there where some extra strings which was hindering the string to be parsed in the element tree function to read the xml file. AFter removing the extra string then the string is paresed to the ET.Element Tree function to make a tree for the xml file. The duplicate rows is being checked using the duplicated function. As seen in the above cell we can see that  there are no duplicate rows in the dataframe of the real_state xml."
   ]
  },
  {
   "cell_type": "code",
   "execution_count": 8,
   "metadata": {},
   "outputs": [
    {
     "data": {
      "text/plain": [
       "property_id      object\n",
       "lat              object\n",
       "lng              object\n",
       "addr_street      object\n",
       "price            object\n",
       "property_type    object\n",
       "year             object\n",
       "bedrooms         object\n",
       "bathrooms        object\n",
       "parking_space    object\n",
       "dtype: object"
      ]
     },
     "execution_count": 8,
     "metadata": {},
     "output_type": "execute_result"
    }
   ],
   "source": [
    "df_real_state_xml.dtypes"
   ]
  },
  {
   "cell_type": "code",
   "execution_count": 9,
   "metadata": {},
   "outputs": [
    {
     "data": {
      "text/plain": [
       "property_id        int64\n",
       "lat              float64\n",
       "lng              float64\n",
       "addr_street       object\n",
       "price              int64\n",
       "property_type     object\n",
       "year               int64\n",
       "bedrooms           int64\n",
       "bathrooms          int64\n",
       "parking_space      int64\n",
       "dtype: object"
      ]
     },
     "execution_count": 9,
     "metadata": {},
     "output_type": "execute_result"
    }
   ],
   "source": [
    "df_real_state_json.dtypes"
   ]
  },
  {
   "cell_type": "code",
   "execution_count": 10,
   "metadata": {},
   "outputs": [
    {
     "data": {
      "text/plain": [
       "property_id        int64\n",
       "lat              float64\n",
       "lng              float64\n",
       "addr_street       object\n",
       "price              int64\n",
       "property_type     object\n",
       "year               int64\n",
       "bedrooms           int64\n",
       "bathrooms          int64\n",
       "parking_space      int64\n",
       "dtype: object"
      ]
     },
     "execution_count": 10,
     "metadata": {},
     "output_type": "execute_result"
    }
   ],
   "source": [
    "#changing the columns dtypes\n",
    "int64_col = ['property_id', 'price', 'year','bedrooms','bathrooms','parking_space']\n",
    "float64_col = ['lat','lng']\n",
    "for i in int64_col:\n",
    "    df_real_state_xml[i] = df_real_state_xml[i].astype('int64')\n",
    "    \n",
    "for i in float64_col:\n",
    "    df_real_state_xml[i]=df_real_state_xml[i].astype('float64')\n",
    "df_real_state_xml.dtypes"
   ]
  },
  {
   "cell_type": "markdown",
   "metadata": {},
   "source": [
    "In the above cell converting the columns datatypes of the dataframe of real_state_xml. Making same as we have in the dataframe of real_state_json.\n",
    "We can see that the datatype are now same."
   ]
  },
  {
   "cell_type": "code",
   "execution_count": 11,
   "metadata": {},
   "outputs": [],
   "source": [
    "#merging the dataframe and taking out the common values\n",
    "s1 = pd.merge(df_real_state_json, df_real_state_xml, how='inner', on=['property_id'])['property_id']\n",
    "df_real_state_xml = df_real_state_xml[~df_real_state_xml['property_id'].isin(s1.values)]"
   ]
  },
  {
   "cell_type": "markdown",
   "metadata": {},
   "source": [
    "Merging the two dataframe which contains the real state data which are df_real_state_json and df_real_state_xml which inner join which gives the comman property_id which is same in both dataframes. We have make sure that there are not comman property_id in the final dataframe which contains the real state data.\n",
    "making the xml dataframe without the comman property_id which is in the real_state_json dataframe."
   ]
  },
  {
   "cell_type": "code",
   "execution_count": 12,
   "metadata": {},
   "outputs": [],
   "source": [
    "#concating the dataframes\n",
    "df_real_state_final =pd.concat([df_real_state_json,df_real_state_xml])\n",
    "df_real_state_final = df_real_state_final.reset_index(drop=True)"
   ]
  },
  {
   "cell_type": "markdown",
   "metadata": {},
   "source": [
    "Concating the both dataframes to make the final dataframe to make the final dataframe which contains the data of real state."
   ]
  },
  {
   "cell_type": "code",
   "execution_count": 13,
   "metadata": {},
   "outputs": [],
   "source": [
    "#Reading the file\n",
    "df_stops = pd.read_csv(\"stops.txt\", sep = \",\")"
   ]
  },
  {
   "cell_type": "markdown",
   "metadata": {},
   "source": [
    "Reading the stops.txt in the dataframe using the pandas librarby using the read_csv, sep as \",\""
   ]
  },
  {
   "cell_type": "markdown",
   "metadata": {},
   "source": [
    " <div class=\"alert alert-block alert-success\">\n",
    "    \n",
    "  ### 2.1.2 MAKING NEW COLUMNS WITH DISTNACE AND THE ID"
   ]
  },
  {
   "cell_type": "code",
   "execution_count": 14,
   "metadata": {},
   "outputs": [],
   "source": [
    "#function for calculating the distance between the two lat and ong values\n",
    "def short_dist(lon1,lat1,df):\n",
    "    #radius of the earth\n",
    "    R = 6378\n",
    "    dist = []\n",
    "    #matching the column of id\n",
    "    id_col = list(filter(lambda v: match('.*id', v), df.columns))\n",
    "    #matching the column of latitude\n",
    "    lat = list(filter(lambda v: match('.*lat', v), df.columns))\n",
    "    #matching the column of longitude\n",
    "    long = list(filter(lambda v: match('.*lng', v), df.columns))\n",
    "    #matching the column of longitude with different abbriviation\n",
    "    long2 = list(filter(lambda v: match('.*lon', v), df.columns))\n",
    "    #condition which longitude column is matched\n",
    "    if len(long) > 0:\n",
    "        for lat2,lon2 in zip(df[lat[0]],df[long[0]]):\n",
    "            d_lat = np.radians(lat2-lat1)\n",
    "            d_lon = np.radians(lon2-lon1)\n",
    "            r_lat1 = np.radians(lat1)\n",
    "            r_lat2 = np.radians(lat2)\n",
    "            a = np.sin(d_lat/2.) **2 + np.cos(r_lat1) * np.cos(r_lat2) * np.sin(d_lon/2.)**2\n",
    "            val = 2 * R * np.arcsin(np.sqrt(a))\n",
    "            #appending the distance calculated between two lats and two longs\n",
    "            dist.append(val)\n",
    "    #conditions which longitude column is matched\n",
    "    if len(long2) > 0:\n",
    "        for lat2,lon2 in zip(df[lat[0]],df[long2[0]]):\n",
    "            d_lat = np.radians(lat2-lat1)\n",
    "            d_lon = np.radians(lon2-lon1)\n",
    "            r_lat1 = np.radians(lat1)\n",
    "            r_lat2 = np.radians(lat2)\n",
    "            a = np.sin(d_lat/2.) **2 + np.cos(r_lat1) * np.cos(r_lat2) * np.sin(d_lon/2.)**2\n",
    "            val = 2 * R * np.arcsin(np.sqrt(a))\n",
    "            #appending the distance calculated between two lats and two longs\n",
    "            dist.append(val)\n",
    "    #finding the index of the minimum value of the distance\n",
    "    ind = np.argmin(dist)\n",
    "    #finding the minimum distance from the list\n",
    "    min_dist = min(dist)\n",
    "    #saving the id which has the mimumn distance\n",
    "    sh = df[id_col[0]][ind]\n",
    "    #returning the id and the minimum distance\n",
    "    return sh,round(min_dist,3)\n",
    "#refrence from www.stackoverflow.com"
   ]
  },
  {
   "cell_type": "markdown",
   "metadata": {},
   "source": [
    "In the above function the minimum distance is being calculated and the id is also being returned with the long,lat and the dataframe as arguments of the function."
   ]
  },
  {
   "cell_type": "code",
   "execution_count": 15,
   "metadata": {},
   "outputs": [],
   "source": [
    "#making new columns with default values \n",
    "df_real_state_final['Shopping_center_id'] = 'not available'\n",
    "df_real_state_final['Distance_to_sc'] = 0\n",
    "\n",
    "#calling the function to give the nearest shopping center id and the minimum distance\n",
    "df_real_state_final['Shopping_center_id'],df_real_state_final['Distance_to_sc'] = zip(*df_real_state_final.apply(lambda x : \n",
    "                                                                                                            short_dist(x['lng']\n",
    "                                                                                      ,x['lat'],df_shopping_center),axis=1))"
   ]
  },
  {
   "cell_type": "markdown",
   "metadata": {},
   "source": [
    "In the above cell two new columns is made named Shopping_center_id with default as 'not available' and Distance_to_sc with 0 as default value.\n",
    "Calling the function short_dist to the final dataframe which have the data from real state. Filling the Shopping id as the id nearest shopping center and the smallest distance from the property id and the nearest shopping center."
   ]
  },
  {
   "cell_type": "code",
   "execution_count": 16,
   "metadata": {},
   "outputs": [],
   "source": [
    "#making new columns with default values \n",
    "df_real_state_final['Hospital_id'] = 'not available'\n",
    "df_real_state_final['Distance_to_hospital'] = 0\n",
    "\n",
    "#calling the function to give the nearest hospital_id and the minimum distance\n",
    "df_real_state_final['Hospital_id'],df_real_state_final['Distance_to_hospital'] = zip(*df_real_state_final.apply(lambda x : \n",
    "                                                                                            short_dist(x['lng'],x['lat'],\n",
    "                                                                                                       df_hospital),axis=1))"
   ]
  },
  {
   "cell_type": "markdown",
   "metadata": {},
   "source": [
    "In the above cell two new columns is made named Hospital_id with default as 'not available' and Distance_to_hospital with 0 as default value.\n",
    "Calling the function short_dist to the final dataframe which have the data from real state. Filling the Hospital_id as the id nearest hospital and the smallest distance from the property id and the nearest hospital."
   ]
  },
  {
   "cell_type": "code",
   "execution_count": 17,
   "metadata": {},
   "outputs": [],
   "source": [
    "#making new columns with default values \n",
    "df_real_state_final['Supermarket_id'] = 'not available'\n",
    "df_real_state_final['Distance_to_supermarket'] = 0\n",
    "\n",
    "#calling the function to give the nearest Supermarket_id and the minimum distance\n",
    "df_real_state_final['Supermarket_id'],df_real_state_final['Distance_to_supermarket'] = zip(*df_real_state_final.apply(lambda x :\n",
    "                                                                                        short_dist(x['lng'],\n",
    "                                                                                        x['lat'],df_supermarket),axis=1))"
   ]
  },
  {
   "cell_type": "markdown",
   "metadata": {},
   "source": [
    "In the above cell two new columns is made named Supermarket_id with default as 'not available' and Distance_to_supermaket with 0 as default value.\n",
    "Calling the function short_dist to the final dataframe which have the data from real state. Filling the Supermarket_id as the id nearest shopping center and the smallest distance from the property id and the nearest shopping center."
   ]
  },
  {
   "cell_type": "code",
   "execution_count": 18,
   "metadata": {},
   "outputs": [],
   "source": [
    "#making new columns with default values \n",
    "df_real_state_final['Train_station_id'] = 0\n",
    "df_real_state_final['Distance_to_train_station'] = 0\n",
    "\n",
    "#calling the function to give the nearest Train_station_id and the minimum distance\n",
    "df_real_state_final['Train_station_id'],df_real_state_final['Distance_to_train_station'] = zip(*df_real_state_final.apply(\n",
    "                                                                            lambda x : \n",
    "                                                                            short_dist(x['lng']\n",
    "                                                                          ,x['lat'],df_stops),axis=1))"
   ]
  },
  {
   "cell_type": "markdown",
   "metadata": {},
   "source": [
    "In the above cell two new columns is made named Train_station_id with default as 'not available' and Distance_to_train_station with 0 as default value.\n",
    "Calling the function short_dist to the final dataframe which have the data from real state. Filling the Train_station_id as the id nearest tgrain station and the smallest distance from the property id and the nearest train station."
   ]
  },
  {
   "cell_type": "code",
   "execution_count": 19,
   "metadata": {
    "scrolled": true
   },
   "outputs": [],
   "source": [
    "#reading the files\n",
    "df_stop_time = pd.read_csv(\"stop_times.txt\", sep = \",\")\n",
    "df_trip = pd.read_csv(\"trips.txt\", sep = \",\")\n",
    "df_shape = pd.read_csv(\"shapes.txt\", sep = \",\")\n",
    "df_route = pd.read_csv(\"routes.txt\", sep = \",\")\n",
    "df_dates = pd.read_csv(\"calendar_dates.txt\", sep = \",\")\n",
    "df_agency = pd.read_csv(\"agency.txt\", sep = \",\")"
   ]
  },
  {
   "cell_type": "markdown",
   "metadata": {},
   "source": [
    "Reading the txt files to find the travel_min_to_CBD distance and the flag value. using the pandas library and read_csv() sep as \",\" into dataframes."
   ]
  },
  {
   "cell_type": "code",
   "execution_count": 20,
   "metadata": {},
   "outputs": [],
   "source": [
    "#making new columns with default values\n",
    "df_real_state_final['travel_min_to_CBD'] = 0\n",
    "df_real_state_final['Transfer_flag'] = -1\n"
   ]
  },
  {
   "cell_type": "markdown",
   "metadata": {},
   "source": [
    "Adding the column travel_min_to_CBD and Transfer_flag with default as 0."
   ]
  },
  {
   "cell_type": "code",
   "execution_count": 21,
   "metadata": {
    "scrolled": false
   },
   "outputs": [],
   "source": [
    "#reading the datafile\n",
    "df_weekdays = pd.read_csv(\"calendar.txt\", sep = \",\")\n",
    "#filtering dataframe\n",
    "df_weekdays = df_weekdays[(df_weekdays.monday==1) & (df_weekdays.tuesday==1) & (df_weekdays.wednesday) \n",
    "            & (df_weekdays.thursday==1) & (df_weekdays.friday==1) & (df_weekdays.saturday==0) & (df_weekdays.sunday==0)]\n",
    "#service id with the specific conditions\n",
    "day = df_weekdays['service_id']"
   ]
  },
  {
   "cell_type": "markdown",
   "metadata": {},
   "source": [
    "In the above cellreading the file calender txt file using pandas and read_csv() sep as \",\"\n",
    "According to the given condition find the service id which is running all the weekdays which are Monday,Tuesday,Wednesday,Thursday,Friday. Saving the service id into a variable."
   ]
  },
  {
   "cell_type": "code",
   "execution_count": 22,
   "metadata": {
    "scrolled": true
   },
   "outputs": [],
   "source": [
    "#merging the dataframes\n",
    "com = pd.merge(df_trip,df_stop_time,on='trip_id')\n",
    "#filtering the dataframe and making list\n",
    "new_trips = com['trip_id'][com.departure_time.str[0:2].isin(['07','08','09'])].to_list()\n",
    "#filtering the dataframe\n",
    "com = com[com['trip_id'].isin(new_trips)]\n",
    "\n",
    "#com = com[(com.departure_time.str[0:2].isin(['07','08','09'])) | ((com.departure_time.str[0:2].isin(['09'])) & (com.stop_id == 1)) & (com['service_id'].isin(day)) \n",
    "#           & (com['trip_headsign']=='City (Flinders Street)')]\n",
    "# com.reset_index(inplace=True)\n",
    "\n",
    "com = com[(com['service_id'].isin(day)) & (com['trip_headsign']=='City (Flinders Street)')]\n",
    "com.reset_index(inplace=True)"
   ]
  },
  {
   "cell_type": "markdown",
   "metadata": {},
   "source": [
    "In the above cell making a dataframe with the merge of df_trip and df_stop created above.\n",
    "In the next step making a list named new_trips which is being filters whith the time which is in 7am - 9am.\n",
    "then filter the com dataframe which the merged dataframe of df_trip and the df_stop_time with the trips which where in between 7am - 9am.\n",
    "In the next step filtering the dataframe with the required service id which is running all the weekdays and the trip headsign is 'City (Flinders Street)') and resrting the indexof the dataframe."
   ]
  },
  {
   "cell_type": "code",
   "execution_count": 23,
   "metadata": {},
   "outputs": [],
   "source": [
    "#making a df with groupby trip id and the list of stop ids\n",
    "x = com.groupby('trip_id').agg({'stop_id':'unique'}).reset_index()"
   ]
  },
  {
   "cell_type": "markdown",
   "metadata": {},
   "source": [
    "Making a new groupby dataframe which contains the trip id which and the column stop_id whoch contains the list of stop ids o fthat specific trips."
   ]
  },
  {
   "cell_type": "code",
   "execution_count": 24,
   "metadata": {},
   "outputs": [],
   "source": [
    "#initializing the varaibles with start and end time\n",
    "start_time_check = '07:00:00'\n",
    "end_time_check = '09:00:00'\n",
    "start_time_check_dt = datetime.datetime.strptime(start_time_check, '%H:%M:%S')\n",
    "end_time_check_dt = datetime.datetime.strptime(end_time_check, '%H:%M:%S')"
   ]
  },
  {
   "cell_type": "markdown",
   "metadata": {},
   "source": [
    "In the above cell making a variable with start_time_check and the end_time_check with 7 am time and 9 am time.\n",
    "Converting the varaibles into datetime format that will used in the function below."
   ]
  },
  {
   "cell_type": "code",
   "execution_count": 25,
   "metadata": {},
   "outputs": [
    {
     "data": {
      "text/plain": [
       "19854"
      ]
     },
     "execution_count": 25,
     "metadata": {},
     "output_type": "execute_result"
    }
   ],
   "source": [
    "flinder_id = df_stops['stop_id'][df_stops['stop_name'] == 'Flinders Street Railway Station'].to_list()\n",
    "flinder_id = flinder_id[0]\n",
    "flinder_id"
   ]
  },
  {
   "cell_type": "code",
   "execution_count": 26,
   "metadata": {},
   "outputs": [],
   "source": [
    "#function to calculate the minimum time to cbd and the transfer flag\n",
    "\n",
    "def final_function(st_id):\n",
    "    if st_id!=flinder_id:\n",
    "        trip_valid = []\n",
    "        store_valid_new = []\n",
    "        trip_valid_df = pd.DataFrame()\n",
    "        final_t = 0\n",
    "        #making the list with valid trips\n",
    "        for stop_id,trip_id in zip(x['stop_id'],x['trip_id']):\n",
    "            s_l = [flinder_id,st_id]\n",
    "            if set(s_l).issubset(stop_id) == True:\n",
    "                trip_valid.append(trip_id)\n",
    "        #filtering the dataframe with valid trips\n",
    "        com2 = com[(com['trip_id'].isin(trip_valid)) & (com['stop_id'].isin(s_l))]\n",
    "        com2.reset_index(inplace=True,drop=True)\n",
    "        #making the list with final valid trips\n",
    "        for index in com2.index:\n",
    "            if (com2.loc[index,'stop_id'] == st_id) & (datetime.datetime.strptime(com2.loc[index,'departure_time'], '%H:%M:%S') <= end_time_check_dt) & (datetime.datetime.strptime(com2.loc[index,'departure_time'], '%H:%M:%S') >= start_time_check_dt):\n",
    "                store_valid_new.append(com2.loc[index,'trip_id'])\n",
    "                \n",
    "        com2 = com2[(com2['trip_id'].isin(store_valid_new))]\n",
    "        \n",
    "        #calulating the mimimum distance\n",
    "        if len(com2) !=0:\n",
    "            time = com2.groupby('trip_id').agg({'arrival_time':'unique','departure_time':'unique'}).reset_index()\n",
    "            time_final_lst = []\n",
    "            for arr,dep in zip(time['arrival_time'],time['departure_time']):\n",
    "                time1 = arr[1]\n",
    "                time2 = dep[0]\n",
    "                time1 = datetime.datetime.strptime(time1, '%H:%M:%S')\n",
    "                time2 = datetime.datetime.strptime(time2, '%H:%M:%S')\n",
    "                time_final = time1 - time2\n",
    "                time_final_lst.append(time_final.seconds/60)\n",
    "            final_t = sum(time_final_lst)/len(time_final_lst)\n",
    "            #returning the mimium ditance and the flag value\n",
    "            return round(final_t),0\n",
    "        if len(com2) == 0:\n",
    "            return 0,1\n",
    "    else:\n",
    "        return 0,0"
   ]
  },
  {
   "cell_type": "markdown",
   "metadata": {},
   "source": [
    "In the above function the return values are the minimum time travel to cbd and the transfer flag. If the transfer flag comes to be 0 then it means we have the direct train from the station id to the flinders street station and if the flag vaue comes to be 1 then there is not direct train to flinders street from the station id.\n",
    "\n",
    "In the function steps for calculating the minimum distance to cbd and the transfer flag asre as follows:\n",
    "\n",
    "    1) itertaing the x dataframe which contains the trip id and the list of stop ids which the stop ids of the specifc trip. and making a list names trip_valid which will append the trip ids where the list of stop ids will contains the flinders id and the train station which is comming as an argument o fthe function.\n",
    "\n",
    "    2) filtering the dataframe with valid trip ids list made above and the stop id contains the flinders id and the train station id.\n",
    "\n",
    "    3) Now filtering the data and making a list with the time which will only include the 7am to 9 am time where the stop id is the id given as an argument in the function which is the train station id.\n",
    "    \n",
    "    4) Now making a final dataframe with all the conmditions where the trip id in the list above created in the above step.\n",
    "    \n",
    "    5) Now checking if the dataframe is empty then retrun with 0 distance and the flag is 1 and if the dataframe len is !=0\n",
    "    then the time is caluclated as the average of all teh valid trips and given the min siatnce to cbd and the flag value 0."
   ]
  },
  {
   "cell_type": "code",
   "execution_count": 27,
   "metadata": {},
   "outputs": [],
   "source": [
    "#calling he function\n",
    "df_real_state_final['travel_min_to_CBD'],df_real_state_final['Transfer_flag'] = zip(*df_real_state_final.apply(lambda xyz : \n",
    "                                                                            final_function(xyz['Train_station_id']),axis=1))"
   ]
  },
  {
   "cell_type": "markdown",
   "metadata": {},
   "source": [
    "Calling the function to fill the travel_min_to_CBD and Transfer_flag column with the function final_function. This will fill with teh avergae time with the valid trips of the specific train station id and the flag value."
   ]
  },
  {
   "cell_type": "code",
   "execution_count": 28,
   "metadata": {},
   "outputs": [],
   "source": [
    "#reading the shape files\n",
    "shape_file_ob = shapefile.Reader(\"./VIC_LOCALITY_POLYGON_shp\") \n",
    "shape_records = shape_file_ob.records()\n",
    "sh = shape_file_ob.shapes()"
   ]
  },
  {
   "cell_type": "markdown",
   "metadata": {},
   "source": [
    "Reading the shapes files for the suburbs"
   ]
  },
  {
   "cell_type": "code",
   "execution_count": 29,
   "metadata": {},
   "outputs": [],
   "source": [
    "#making polygons\n",
    "cm = matplotlib.cm.get_cmap('Dark2')\n",
    "Nshp = len(sh)\n",
    "cccol = cm(1.*numpy.arange(Nshp)/Nshp) \n",
    "list_pol = []\n",
    "for nshp in range(Nshp):\n",
    "    ptchs   = []\n",
    "    pts     = numpy.array(sh[nshp].points)\n",
    "    prt     = sh[nshp].parts\n",
    "    par     = list(prt) + [pts.shape[0]]\n",
    "        \n",
    "    for pij in range(len(prt)): \n",
    "         ptchs.append(Polygon(pts[par[pij]:par[pij+1]]))\n",
    "    list_pol.append(ptchs)\n",
    "    \n",
    "#function to find the suburbs using lat and lon values of the property id    \n",
    "suburb_list = []\n",
    "def point_in_poly(lng,lat,list_pol):\n",
    "    for polygon in list_pol:\n",
    "        if polygon[0].contains(Point(lng,lat))[0] == True:\n",
    "            return shape_records[list_pol.index(polygon)][6]"
   ]
  },
  {
   "cell_type": "markdown",
   "metadata": {},
   "source": [
    "In The above cell we are using the above shape files and making ploygons with the help of the shape files provided."
   ]
  },
  {
   "cell_type": "code",
   "execution_count": 30,
   "metadata": {},
   "outputs": [],
   "source": [
    "#calling the function\n",
    "df_real_state_final['suburb'] = df_real_state_final.apply(lambda x: point_in_poly(x['lng'],x['lat'],list_pol),axis=1)"
   ]
  },
  {
   "cell_type": "markdown",
   "metadata": {},
   "source": [
    "Making a new column as Suburb which will give the suburb where the property lies with the help of the latitude and ongitudes given of the property id.\n",
    "The function we calling is point_in_poly which send the long and long values of the property id which will check in which poygon the lat long will lies in then specific suburb will be returned.\n",
    "This will gives the suburbs of the properties."
   ]
  },
  {
   "cell_type": "markdown",
   "metadata": {},
   "source": [
    " <div class=\"alert alert-block alert-success\">\n",
    "    \n",
    "  ### 2.1.2 WRITING  THE DATAFRAME INTO A CSV FILE"
   ]
  },
  {
   "cell_type": "code",
   "execution_count": 31,
   "metadata": {},
   "outputs": [],
   "source": [
    "df_real_state_final = df_real_state_final[['property_id',  'lat',  'lng',  'addr_street',  'suburb',  'price', \n",
    "                                           'property_type',  'year',  'bedrooms',  'bathrooms',  'parking_space',\n",
    "                                           'Shopping_center_id', \n",
    "                                           'Distance_to_sc',  'Train_station_id',  'Distance_to_train_station',\n",
    "                                           'travel_min_to_CBD',  'Transfer_flag','Hospital_id','Distance_to_hospital',\n",
    "                                           'Supermarket_id', \n",
    "                                            'Distance_to_supermarket']]"
   ]
  },
  {
   "cell_type": "code",
   "execution_count": 32,
   "metadata": {},
   "outputs": [],
   "source": [
    "#writing the final df into csv file\n",
    "df_real_state_final.to_csv(\"30761182_A3_solution.csv\",index=False)"
   ]
  },
  {
   "cell_type": "markdown",
   "metadata": {},
   "source": [
    " <div class=\"alert alert-block alert-success\">\n",
    "    \n",
    "   ## 2.2 TASK 2 - \n",
    "   </div>"
   ]
  },
  {
   "cell_type": "markdown",
   "metadata": {},
   "source": [
    "In the task 2 we have to reshape the data with different techiques which involves normalization/scaling and transformation techiques on the dataframe which contains only the three columns i.e Distance_to_sc,travel_min_to_CBD,Distance_to_hospital and price. The reason we have to perform some techiques on this dataframe havinbg the specific column because we assume that this data will be used to make a linear model to predict the price with the help of the the coloumn of the dataframe.\n",
    "\n",
    "\n",
    "Techiques used :\n",
    "\n",
    "   1)Transformation - In the transformation techiques two things we have assume that is linearity and the normality.\n",
    "   \n",
    "               a) Linearity --> Wecan define the linearity as the relation between the target variable which the we have \n",
    "                  predict and the other predictors which are the other columns. We can define relationship between the \n",
    "                  target variable and the predictors as positive correlation or negative correlation. If one variable\n",
    "                  is increasing and the other is also incresing we can say that it is a positive correlation between the \n",
    "                  target variable and the predictor whereas if one varaible increases and the other varaible decreases                           then it is a negative correlation.\n",
    "                       \n",
    "               b) Normality--> We can define the normality as when the data is equally or normally distributed. If the \n",
    "                  data is normally distributed then the predicted value wil be more accurate whereas if the data is not \n",
    "                  normally distributed then the prediction wont be as accurate. The reason we should see the normality of \n",
    "                  the data because if the data would be imbalanced and the data would be right or left skewed then                               it means that the occurence of the specific more than others so it would predict inaccurate\n",
    "                  predictions.\n",
    "                       \n",
    "                To solve the imbalanced data we can perform some techiques which included the log , squareroot , power \n",
    "                of the specifc coloumns which are imbalanced to make then equally distributed. This transformation \n",
    "                would help to give more accurate predictions.\n",
    "                       \n",
    "                       \n",
    "   2)Normalisation - In this techique we make all the columns inthesame range. The reason we are performing this techique is \n",
    "                      because all teh predictors have different range of values which may lead to inaccurate predictions of the\n",
    "                      target variable. After scaling the predictors have same range of the values so this would help\n",
    "                      to predict the value acuractely with the linear model.\n",
    "                      Two methods for normalization are :\n",
    "                      \n",
    "               a) Min max --> This approach is used such that the range created for the column has a minimum value of 0 and \n",
    "               a maximum value of 1. Hence all the data points are scaled in a manner such that they fit inside this range. \n",
    "               The values are calculated by taking the actual value, then subtracting it from the minimum value of that\n",
    "               particular column and then diving this result by the range of the column. By range we mean the maximum value \n",
    "               - the minimum value of the column originally.\n",
    "               \n",
    "               \n",
    "               \n",
    "               b) Z score --> In this approach we standardise the column value in a manner such that the resultant column \n",
    "               after scaling has a mean of 0 and a standard deviation of 1. For this we use the StandardScaler(). The value \n",
    "               for this approach is calculated by subtracting the mean and then scaling to unit variance. This approach is \n",
    "               used more frequently as this also handles the occurence of outliers. Hence this approach is used in cases \n",
    "               where the data is more normally distributed. "
   ]
  },
  {
   "cell_type": "code",
   "execution_count": 33,
   "metadata": {
    "scrolled": false
   },
   "outputs": [
    {
     "data": {
      "text/html": [
       "<div>\n",
       "<style scoped>\n",
       "    .dataframe tbody tr th:only-of-type {\n",
       "        vertical-align: middle;\n",
       "    }\n",
       "\n",
       "    .dataframe tbody tr th {\n",
       "        vertical-align: top;\n",
       "    }\n",
       "\n",
       "    .dataframe thead th {\n",
       "        text-align: right;\n",
       "    }\n",
       "</style>\n",
       "<table border=\"1\" class=\"dataframe\">\n",
       "  <thead>\n",
       "    <tr style=\"text-align: right;\">\n",
       "      <th></th>\n",
       "      <th>Distance_to_sc</th>\n",
       "      <th>travel_min_to_CBD</th>\n",
       "      <th>Distance_to_hospital</th>\n",
       "      <th>price</th>\n",
       "    </tr>\n",
       "  </thead>\n",
       "  <tbody>\n",
       "    <tr>\n",
       "      <th>0</th>\n",
       "      <td>3.124</td>\n",
       "      <td>40</td>\n",
       "      <td>2.757</td>\n",
       "      <td>7920000</td>\n",
       "    </tr>\n",
       "    <tr>\n",
       "      <th>1</th>\n",
       "      <td>1.274</td>\n",
       "      <td>46</td>\n",
       "      <td>4.989</td>\n",
       "      <td>4970000</td>\n",
       "    </tr>\n",
       "    <tr>\n",
       "      <th>2</th>\n",
       "      <td>2.370</td>\n",
       "      <td>37</td>\n",
       "      <td>2.991</td>\n",
       "      <td>2920000</td>\n",
       "    </tr>\n",
       "    <tr>\n",
       "      <th>3</th>\n",
       "      <td>1.700</td>\n",
       "      <td>40</td>\n",
       "      <td>1.731</td>\n",
       "      <td>10245000</td>\n",
       "    </tr>\n",
       "    <tr>\n",
       "      <th>4</th>\n",
       "      <td>0.527</td>\n",
       "      <td>26</td>\n",
       "      <td>2.030</td>\n",
       "      <td>9792000</td>\n",
       "    </tr>\n",
       "    <tr>\n",
       "      <th>...</th>\n",
       "      <td>...</td>\n",
       "      <td>...</td>\n",
       "      <td>...</td>\n",
       "      <td>...</td>\n",
       "    </tr>\n",
       "    <tr>\n",
       "      <th>1973</th>\n",
       "      <td>1.029</td>\n",
       "      <td>23</td>\n",
       "      <td>1.555</td>\n",
       "      <td>13140000</td>\n",
       "    </tr>\n",
       "    <tr>\n",
       "      <th>1974</th>\n",
       "      <td>4.685</td>\n",
       "      <td>33</td>\n",
       "      <td>3.200</td>\n",
       "      <td>5211000</td>\n",
       "    </tr>\n",
       "    <tr>\n",
       "      <th>1975</th>\n",
       "      <td>4.379</td>\n",
       "      <td>53</td>\n",
       "      <td>0.218</td>\n",
       "      <td>13580000</td>\n",
       "    </tr>\n",
       "    <tr>\n",
       "      <th>1976</th>\n",
       "      <td>1.125</td>\n",
       "      <td>43</td>\n",
       "      <td>0.993</td>\n",
       "      <td>5400000</td>\n",
       "    </tr>\n",
       "    <tr>\n",
       "      <th>1977</th>\n",
       "      <td>1.684</td>\n",
       "      <td>33</td>\n",
       "      <td>4.732</td>\n",
       "      <td>6435000</td>\n",
       "    </tr>\n",
       "  </tbody>\n",
       "</table>\n",
       "<p>1978 rows × 4 columns</p>\n",
       "</div>"
      ],
      "text/plain": [
       "      Distance_to_sc  travel_min_to_CBD  Distance_to_hospital     price\n",
       "0              3.124                 40                 2.757   7920000\n",
       "1              1.274                 46                 4.989   4970000\n",
       "2              2.370                 37                 2.991   2920000\n",
       "3              1.700                 40                 1.731  10245000\n",
       "4              0.527                 26                 2.030   9792000\n",
       "...              ...                ...                   ...       ...\n",
       "1973           1.029                 23                 1.555  13140000\n",
       "1974           4.685                 33                 3.200   5211000\n",
       "1975           4.379                 53                 0.218  13580000\n",
       "1976           1.125                 43                 0.993   5400000\n",
       "1977           1.684                 33                 4.732   6435000\n",
       "\n",
       "[1978 rows x 4 columns]"
      ]
     },
     "execution_count": 33,
     "metadata": {},
     "output_type": "execute_result"
    }
   ],
   "source": [
    "#making df for reshaping\n",
    "df_real_state_final_2 = df_real_state_final[['Distance_to_sc','travel_min_to_CBD','Distance_to_hospital','price']]\n",
    "df_real_state_final_2"
   ]
  },
  {
   "cell_type": "markdown",
   "metadata": {},
   "source": [
    "In the above cell we can making a dataframe from the final dataframe calculated above with the specific columns which are Distance_to_sc, travel_min_to_CBD,Distance_to_hospital and price\n",
    "\n",
    "\n",
    "\n",
    "\n",
    "\n"
   ]
  },
  {
   "cell_type": "code",
   "execution_count": 34,
   "metadata": {
    "scrolled": true
   },
   "outputs": [
    {
     "data": {
      "text/html": [
       "<div>\n",
       "<style scoped>\n",
       "    .dataframe tbody tr th:only-of-type {\n",
       "        vertical-align: middle;\n",
       "    }\n",
       "\n",
       "    .dataframe tbody tr th {\n",
       "        vertical-align: top;\n",
       "    }\n",
       "\n",
       "    .dataframe thead th {\n",
       "        text-align: right;\n",
       "    }\n",
       "</style>\n",
       "<table border=\"1\" class=\"dataframe\">\n",
       "  <thead>\n",
       "    <tr style=\"text-align: right;\">\n",
       "      <th></th>\n",
       "      <th>Distance_to_sc</th>\n",
       "      <th>travel_min_to_CBD</th>\n",
       "      <th>Distance_to_hospital</th>\n",
       "      <th>price</th>\n",
       "    </tr>\n",
       "  </thead>\n",
       "  <tbody>\n",
       "    <tr>\n",
       "      <th>count</th>\n",
       "      <td>1978.000000</td>\n",
       "      <td>1978.000000</td>\n",
       "      <td>1978.000000</td>\n",
       "      <td>1.978000e+03</td>\n",
       "    </tr>\n",
       "    <tr>\n",
       "      <th>mean</th>\n",
       "      <td>2.509711</td>\n",
       "      <td>33.724469</td>\n",
       "      <td>2.233648</td>\n",
       "      <td>8.958297e+06</td>\n",
       "    </tr>\n",
       "    <tr>\n",
       "      <th>std</th>\n",
       "      <td>1.352683</td>\n",
       "      <td>12.396559</td>\n",
       "      <td>1.824723</td>\n",
       "      <td>5.513052e+06</td>\n",
       "    </tr>\n",
       "    <tr>\n",
       "      <th>min</th>\n",
       "      <td>0.100000</td>\n",
       "      <td>0.000000</td>\n",
       "      <td>0.039000</td>\n",
       "      <td>1.360000e+06</td>\n",
       "    </tr>\n",
       "    <tr>\n",
       "      <th>25%</th>\n",
       "      <td>1.457000</td>\n",
       "      <td>24.000000</td>\n",
       "      <td>0.983250</td>\n",
       "      <td>5.213250e+06</td>\n",
       "    </tr>\n",
       "    <tr>\n",
       "      <th>50%</th>\n",
       "      <td>2.237000</td>\n",
       "      <td>34.000000</td>\n",
       "      <td>1.733500</td>\n",
       "      <td>7.509500e+06</td>\n",
       "    </tr>\n",
       "    <tr>\n",
       "      <th>75%</th>\n",
       "      <td>3.348250</td>\n",
       "      <td>41.000000</td>\n",
       "      <td>2.785000</td>\n",
       "      <td>1.089925e+07</td>\n",
       "    </tr>\n",
       "    <tr>\n",
       "      <th>max</th>\n",
       "      <td>5.974000</td>\n",
       "      <td>60.000000</td>\n",
       "      <td>9.370000</td>\n",
       "      <td>4.240000e+07</td>\n",
       "    </tr>\n",
       "  </tbody>\n",
       "</table>\n",
       "</div>"
      ],
      "text/plain": [
       "       Distance_to_sc  travel_min_to_CBD  Distance_to_hospital         price\n",
       "count     1978.000000        1978.000000           1978.000000  1.978000e+03\n",
       "mean         2.509711          33.724469              2.233648  8.958297e+06\n",
       "std          1.352683          12.396559              1.824723  5.513052e+06\n",
       "min          0.100000           0.000000              0.039000  1.360000e+06\n",
       "25%          1.457000          24.000000              0.983250  5.213250e+06\n",
       "50%          2.237000          34.000000              1.733500  7.509500e+06\n",
       "75%          3.348250          41.000000              2.785000  1.089925e+07\n",
       "max          5.974000          60.000000              9.370000  4.240000e+07"
      ]
     },
     "execution_count": 34,
     "metadata": {},
     "output_type": "execute_result"
    }
   ],
   "source": [
    "#describing the dataframe\n",
    "df_real_state_final_2.describe()"
   ]
  },
  {
   "cell_type": "markdown",
   "metadata": {},
   "source": [
    "In the above cell we can see that the original values of max and min for each column are varying a lot in range. Hence we would need to apply some kind of scaling techniques. We can also see that the mean values for each column also varies a lot. Hence we can perform certain transformations and normalisations to correct this."
   ]
  },
  {
   "cell_type": "markdown",
   "metadata": {},
   "source": [
    " <div class=\"alert alert-block alert-success\">\n",
    "    \n",
    "   ## Plotting the columns without any transformation- \n",
    "   </div>"
   ]
  },
  {
   "cell_type": "code",
   "execution_count": 35,
   "metadata": {},
   "outputs": [
    {
     "data": {
      "text/plain": [
       "<matplotlib.axes._subplots.AxesSubplot at 0x15fb9410748>"
      ]
     },
     "execution_count": 35,
     "metadata": {},
     "output_type": "execute_result"
    },
    {
     "data": {
      "image/png": "[encoded data removed]",
      "text/plain": [
       "<Figure size 432x288 with 1 Axes>"
      ]
     },
     "metadata": {
      "needs_background": "light"
     },
     "output_type": "display_data"
    }
   ],
   "source": [
    "#scatter plot for Distance_to_sc , price\n",
    "sns.regplot(x=df_real_state_final_2['Distance_to_sc'], \n",
    "            y=df_real_state_final_2[\"price\"], line_kws={\"color\":\"r\",\"alpha\":0.7,\"lw\":5})"
   ]
  },
  {
   "cell_type": "code",
   "execution_count": 36,
   "metadata": {
    "scrolled": true
   },
   "outputs": [
    {
     "data": {
      "text/plain": [
       "<matplotlib.axes._subplots.AxesSubplot at 0x15fbb621710>"
      ]
     },
     "execution_count": 36,
     "metadata": {},
     "output_type": "execute_result"
    },
    {
     "data": {
      "image/png": "[encoded data removed]",
      "text/plain": [
       "<Figure size 432x288 with 1 Axes>"
      ]
     },
     "metadata": {
      "needs_background": "light"
     },
     "output_type": "display_data"
    }
   ],
   "source": [
    "#histogram for Distance_to_sc\n",
    "\n",
    "df_real_state_final_2['Distance_to_sc'].hist(bins=20)"
   ]
  },
  {
   "cell_type": "code",
   "execution_count": 37,
   "metadata": {},
   "outputs": [
    {
     "data": {
      "text/plain": [
       "<matplotlib.axes._subplots.AxesSubplot at 0x15fbb6d0b70>"
      ]
     },
     "execution_count": 37,
     "metadata": {},
     "output_type": "execute_result"
    },
    {
     "data": {
      "image/png": "[encoded data removed]",
      "text/plain": [
       "<Figure size 432x288 with 1 Axes>"
      ]
     },
     "metadata": {
      "needs_background": "light"
     },
     "output_type": "display_data"
    }
   ],
   "source": [
    "#scatter plot for travel_min_to_CBD , price\n",
    "\n",
    "sns.regplot(x=df_real_state_final_2['travel_min_to_CBD'], \n",
    "            y=df_real_state_final_2[\"price\"], line_kws={\"color\":\"r\",\"alpha\":0.7,\"lw\":5})"
   ]
  },
  {
   "cell_type": "code",
   "execution_count": 38,
   "metadata": {
    "scrolled": true
   },
   "outputs": [
    {
     "data": {
      "text/plain": [
       "<matplotlib.axes._subplots.AxesSubplot at 0x15fbb72f2e8>"
      ]
     },
     "execution_count": 38,
     "metadata": {},
     "output_type": "execute_result"
    },
    {
     "data": {
      "image/png": "[encoded data removed]",
      "text/plain": [
       "<Figure size 432x288 with 1 Axes>"
      ]
     },
     "metadata": {
      "needs_background": "light"
     },
     "output_type": "display_data"
    }
   ],
   "source": [
    "#histogram for travel_min_to_CBD\n",
    "df_real_state_final_2['travel_min_to_CBD'].hist(bins=20)"
   ]
  },
  {
   "cell_type": "code",
   "execution_count": 39,
   "metadata": {},
   "outputs": [
    {
     "data": {
      "text/plain": [
       "<matplotlib.axes._subplots.AxesSubplot at 0x15fbb7c8a20>"
      ]
     },
     "execution_count": 39,
     "metadata": {},
     "output_type": "execute_result"
    },
    {
     "data": {
      "image/png": "[encoded data removed]",
      "text/plain": [
       "<Figure size 432x288 with 1 Axes>"
      ]
     },
     "metadata": {
      "needs_background": "light"
     },
     "output_type": "display_data"
    }
   ],
   "source": [
    "#scatter plot for Distance_to_hospital , price\n",
    "\n",
    "\n",
    "sns.regplot(x=df_real_state_final_2['Distance_to_hospital'], \n",
    "            y=df_real_state_final_2[\"price\"], line_kws={\"color\":\"r\",\"alpha\":0.7,\"lw\":5})"
   ]
  },
  {
   "cell_type": "code",
   "execution_count": 40,
   "metadata": {
    "scrolled": true
   },
   "outputs": [
    {
     "data": {
      "text/plain": [
       "<matplotlib.axes._subplots.AxesSubplot at 0x15fbb812630>"
      ]
     },
     "execution_count": 40,
     "metadata": {},
     "output_type": "execute_result"
    },
    {
     "data": {
      "image/png": "[encoded data removed]",
      "text/plain": [
       "<Figure size 432x288 with 1 Axes>"
      ]
     },
     "metadata": {
      "needs_background": "light"
     },
     "output_type": "display_data"
    }
   ],
   "source": [
    "#histogram for Distance_to_hospital \n",
    "\n",
    "df_real_state_final_2['Distance_to_hospital'].hist(bins=20)"
   ]
  },
  {
   "cell_type": "code",
   "execution_count": 41,
   "metadata": {},
   "outputs": [
    {
     "data": {
      "text/plain": [
       "<matplotlib.axes._subplots.AxesSubplot at 0x15fbb8b60f0>"
      ]
     },
     "execution_count": 41,
     "metadata": {},
     "output_type": "execute_result"
    },
    {
     "data": {
      "image/png": "[encoded data removed]",
      "text/plain": [
       "<Figure size 432x288 with 1 Axes>"
      ]
     },
     "metadata": {
      "needs_background": "light"
     },
     "output_type": "display_data"
    }
   ],
   "source": [
    "#histogram plot for price\n",
    "\n",
    "df_real_state_final_2['price'].hist(bins=20)"
   ]
  },
  {
   "cell_type": "markdown",
   "metadata": {},
   "source": [
    "From the scatter plots above, we can determine the linearity between the predictors and the target class. We can see that the points are not spread across the regression line and are unevenly spread across the graph. Hence the data points are not well correlated with each other. From the graph above we can also determine the nature of correlation. If the regression line has a positive slope then we can say that the relationship between the predictor and target is positve hence they are directly related to each other. However if the slope is negative then we can say that the relationship between the predictor and target is negative hence they are inversely reated to each other. \n",
    "\n",
    "From the histograms above we can see that the data for the columns Distance_to_sc, Distance_to_hospital and price the data is right skewed. Hence there is skewness in the data and the values in the repesctive columns wi be more enclined towards certain values. This will cause issues while creating Linear models as the model may predict incorrect values of prices because of this skewness in data. Hence we need to correct the skeness as well for these columns using transformation techniques. "
   ]
  },
  {
   "cell_type": "markdown",
   "metadata": {},
   "source": [
    " <div class=\"alert alert-block alert-success\">\n",
    "    \n",
    "   ### 2.2.1 DATA TRANSFORMATION\n",
    "   </div>\n"
   ]
  },
  {
   "cell_type": "markdown",
   "metadata": {},
   "source": [
    "Now for the columns which exhibited right skewness I have applied transformations using math.pow()\n",
    "\n",
    "Using this I have experimented with values of power to attain the correct results. The different values of power taken in pow() are based on the left and right skewness of the data. If the data is right skewed, we can apply power tranformations with values less than 1. This would help in building better data values and hence the normality and linearity issues will be removed after such transformations. If the data is data is left skewed, we can apply power transformations with vaues near to or greater than 1. This would help in building better data values and hence the normality and linearity issues will be removed after such transformations. \n",
    "\n",
    "Hence for the columns Distance_to_sc , Distance_to_hospital, price I have applied power transformations with values of power less than 1 and for the column travel_min_to_CBD I have applied power transformation with vaue of power as 1.3.\n",
    "\n",
    "For column Distance_to_sc I have used a power of 0.2 so sqrt basically\n",
    "\n",
    "For column travel_min_to_CBD I have used a power of 1.3\n",
    "\n",
    "For column Distance_to_hospital I have used a power of 1/3\n",
    "\n",
    "For column price I have used a power of 0.2\n"
   ]
  },
  {
   "cell_type": "code",
   "execution_count": 42,
   "metadata": {
    "scrolled": true
   },
   "outputs": [
    {
     "data": {
      "text/html": [
       "<div>\n",
       "<style scoped>\n",
       "    .dataframe tbody tr th:only-of-type {\n",
       "        vertical-align: middle;\n",
       "    }\n",
       "\n",
       "    .dataframe tbody tr th {\n",
       "        vertical-align: top;\n",
       "    }\n",
       "\n",
       "    .dataframe thead th {\n",
       "        text-align: right;\n",
       "    }\n",
       "</style>\n",
       "<table border=\"1\" class=\"dataframe\">\n",
       "  <thead>\n",
       "    <tr style=\"text-align: right;\">\n",
       "      <th></th>\n",
       "      <th>Distance_to_sc</th>\n",
       "      <th>travel_min_to_CBD</th>\n",
       "      <th>Distance_to_hospital</th>\n",
       "      <th>price</th>\n",
       "      <th>Distance_to_sc_power</th>\n",
       "      <th>travel_min_to_CBD_power</th>\n",
       "      <th>Distance_to_hospital_power</th>\n",
       "      <th>price_power</th>\n",
       "    </tr>\n",
       "  </thead>\n",
       "  <tbody>\n",
       "    <tr>\n",
       "      <th>0</th>\n",
       "      <td>3.124</td>\n",
       "      <td>40</td>\n",
       "      <td>2.757</td>\n",
       "      <td>7920000</td>\n",
       "      <td>1.767484</td>\n",
       "      <td>120.970086</td>\n",
       "      <td>1.402207</td>\n",
       "      <td>23.974250</td>\n",
       "    </tr>\n",
       "    <tr>\n",
       "      <th>1</th>\n",
       "      <td>1.274</td>\n",
       "      <td>46</td>\n",
       "      <td>4.989</td>\n",
       "      <td>4970000</td>\n",
       "      <td>1.128716</td>\n",
       "      <td>145.072529</td>\n",
       "      <td>1.708721</td>\n",
       "      <td>21.840938</td>\n",
       "    </tr>\n",
       "    <tr>\n",
       "      <th>2</th>\n",
       "      <td>2.370</td>\n",
       "      <td>37</td>\n",
       "      <td>2.991</td>\n",
       "      <td>2920000</td>\n",
       "      <td>1.539480</td>\n",
       "      <td>109.310591</td>\n",
       "      <td>1.440806</td>\n",
       "      <td>19.637065</td>\n",
       "    </tr>\n",
       "    <tr>\n",
       "      <th>3</th>\n",
       "      <td>1.700</td>\n",
       "      <td>40</td>\n",
       "      <td>1.731</td>\n",
       "      <td>10245000</td>\n",
       "      <td>1.303840</td>\n",
       "      <td>120.970086</td>\n",
       "      <td>1.200694</td>\n",
       "      <td>25.240758</td>\n",
       "    </tr>\n",
       "    <tr>\n",
       "      <th>4</th>\n",
       "      <td>0.527</td>\n",
       "      <td>26</td>\n",
       "      <td>2.030</td>\n",
       "      <td>9792000</td>\n",
       "      <td>0.725948</td>\n",
       "      <td>69.097980</td>\n",
       "      <td>1.266189</td>\n",
       "      <td>25.013489</td>\n",
       "    </tr>\n",
       "  </tbody>\n",
       "</table>\n",
       "</div>"
      ],
      "text/plain": [
       "   Distance_to_sc  travel_min_to_CBD  Distance_to_hospital     price  \\\n",
       "0           3.124                 40                 2.757   7920000   \n",
       "1           1.274                 46                 4.989   4970000   \n",
       "2           2.370                 37                 2.991   2920000   \n",
       "3           1.700                 40                 1.731  10245000   \n",
       "4           0.527                 26                 2.030   9792000   \n",
       "\n",
       "   Distance_to_sc_power  travel_min_to_CBD_power  Distance_to_hospital_power  \\\n",
       "0              1.767484               120.970086                    1.402207   \n",
       "1              1.128716               145.072529                    1.708721   \n",
       "2              1.539480               109.310591                    1.440806   \n",
       "3              1.303840               120.970086                    1.200694   \n",
       "4              0.725948                69.097980                    1.266189   \n",
       "\n",
       "   price_power  \n",
       "0    23.974250  \n",
       "1    21.840938  \n",
       "2    19.637065  \n",
       "3    25.240758  \n",
       "4    25.013489  "
      ]
     },
     "execution_count": 42,
     "metadata": {},
     "output_type": "execute_result"
    }
   ],
   "source": [
    "import math\n",
    "#making new coloumns\n",
    "df_real_state_final_2['Distance_to_sc_power'] = None\n",
    "df_real_state_final_2['travel_min_to_CBD_power'] = None\n",
    "df_real_state_final_2['Distance_to_hospital_power'] = None\n",
    "df_real_state_final_2['price_power'] = None\n",
    "\n",
    "#transforming the columns\n",
    "i = 0\n",
    "for row in df_real_state_final_2.iterrows():\n",
    "    df_real_state_final_2['Distance_to_sc_power'].at[i] = math.sqrt(df_real_state_final_2[\"Distance_to_sc\"][i])\n",
    "    df_real_state_final_2['travel_min_to_CBD_power'].at[i] = math.pow(df_real_state_final_2[\"travel_min_to_CBD\"][i],1.3)\n",
    "    df_real_state_final_2['Distance_to_hospital_power'].at[i] = math.pow(df_real_state_final_2[\"Distance_to_hospital\"][i],1/3)\n",
    "    df_real_state_final_2['price_power'].at[i] = math.pow(df_real_state_final_2[\"price\"][i],0.2)\n",
    "\n",
    "    i += 1\n",
    "#changing the datatypes of the columns    \n",
    "df_real_state_final_2['Distance_to_sc_power'] = df_real_state_final_2['Distance_to_sc_power'].astype(float)\n",
    "df_real_state_final_2['travel_min_to_CBD_power'] = df_real_state_final_2['travel_min_to_CBD_power'].astype(float)\n",
    "df_real_state_final_2['Distance_to_hospital_power'] = df_real_state_final_2['Distance_to_hospital_power'].astype(float)\n",
    "df_real_state_final_2['price_power'] = df_real_state_final_2['price_power'].astype(float)\n",
    "df_real_state_final_2.head()"
   ]
  },
  {
   "cell_type": "markdown",
   "metadata": {},
   "source": [
    "Now plotting again the scatter plots and histograms for the new transformed columns we get the folowing graphs"
   ]
  },
  {
   "cell_type": "code",
   "execution_count": 43,
   "metadata": {},
   "outputs": [
    {
     "data": {
      "text/plain": [
       "<matplotlib.axes._subplots.AxesSubplot at 0x15fbb93ca90>"
      ]
     },
     "execution_count": 43,
     "metadata": {},
     "output_type": "execute_result"
    },
    {
     "data": {
      "image/png": "[encoded data removed]",
      "text/plain": [
       "<Figure size 432x288 with 1 Axes>"
      ]
     },
     "metadata": {
      "needs_background": "light"
     },
     "output_type": "display_data"
    }
   ],
   "source": [
    "sns.regplot(x=df_real_state_final_2['Distance_to_sc_power'], \n",
    "            y=df_real_state_final_2[\"price_power\"], line_kws={\"color\":\"r\",\"alpha\":0.7,\"lw\":5})"
   ]
  },
  {
   "cell_type": "code",
   "execution_count": 44,
   "metadata": {},
   "outputs": [
    {
     "data": {
      "text/plain": [
       "<matplotlib.axes._subplots.AxesSubplot at 0x15fbb9d22e8>"
      ]
     },
     "execution_count": 44,
     "metadata": {},
     "output_type": "execute_result"
    },
    {
     "data": {
      "image/png": "[encoded data removed]",
      "text/plain": [
       "<Figure size 432x288 with 1 Axes>"
      ]
     },
     "metadata": {
      "needs_background": "light"
     },
     "output_type": "display_data"
    }
   ],
   "source": [
    "df_real_state_final_2['Distance_to_sc_power'].hist(bins=20)"
   ]
  },
  {
   "cell_type": "code",
   "execution_count": 45,
   "metadata": {},
   "outputs": [
    {
     "data": {
      "text/plain": [
       "<matplotlib.axes._subplots.AxesSubplot at 0x15fbb925a90>"
      ]
     },
     "execution_count": 45,
     "metadata": {},
     "output_type": "execute_result"
    },
    {
     "data": {
      "image/png": "[encoded data removed]",
      "text/plain": [
       "<Figure size 432x288 with 1 Axes>"
      ]
     },
     "metadata": {
      "needs_background": "light"
     },
     "output_type": "display_data"
    }
   ],
   "source": [
    "sns.regplot(x=df_real_state_final_2['travel_min_to_CBD_power'], \n",
    "            y=df_real_state_final_2[\"price_power\"], line_kws={\"color\":\"r\",\"alpha\":0.7,\"lw\":5})"
   ]
  },
  {
   "cell_type": "code",
   "execution_count": 46,
   "metadata": {},
   "outputs": [
    {
     "data": {
      "text/plain": [
       "<matplotlib.axes._subplots.AxesSubplot at 0x15fbbad22e8>"
      ]
     },
     "execution_count": 46,
     "metadata": {},
     "output_type": "execute_result"
    },
    {
     "data": {
      "image/png": "[encoded data removed]",
      "text/plain": [
       "<Figure size 432x288 with 1 Axes>"
      ]
     },
     "metadata": {
      "needs_background": "light"
     },
     "output_type": "display_data"
    }
   ],
   "source": [
    "df_real_state_final_2['travel_min_to_CBD_power'].hist(bins=20)"
   ]
  },
  {
   "cell_type": "code",
   "execution_count": 47,
   "metadata": {},
   "outputs": [
    {
     "data": {
      "text/plain": [
       "<matplotlib.axes._subplots.AxesSubplot at 0x15fbbb66dd8>"
      ]
     },
     "execution_count": 47,
     "metadata": {},
     "output_type": "execute_result"
    },
    {
     "data": {
      "image/png": "[encoded data removed]",
      "text/plain": [
       "<Figure size 432x288 with 1 Axes>"
      ]
     },
     "metadata": {
      "needs_background": "light"
     },
     "output_type": "display_data"
    }
   ],
   "source": [
    "sns.regplot(x=df_real_state_final_2['Distance_to_hospital_power'], \n",
    "            y=df_real_state_final_2[\"price_power\"], line_kws={\"color\":\"r\",\"alpha\":0.7,\"lw\":5})"
   ]
  },
  {
   "cell_type": "code",
   "execution_count": 48,
   "metadata": {},
   "outputs": [
    {
     "data": {
      "text/plain": [
       "<matplotlib.axes._subplots.AxesSubplot at 0x15fbbbd2978>"
      ]
     },
     "execution_count": 48,
     "metadata": {},
     "output_type": "execute_result"
    },
    {
     "data": {
      "image/png": "[encoded data removed]",
      "text/plain": [
       "<Figure size 432x288 with 1 Axes>"
      ]
     },
     "metadata": {
      "needs_background": "light"
     },
     "output_type": "display_data"
    }
   ],
   "source": [
    "df_real_state_final_2['Distance_to_hospital_power'].hist(bins=20)"
   ]
  },
  {
   "cell_type": "code",
   "execution_count": 49,
   "metadata": {},
   "outputs": [
    {
     "data": {
      "text/plain": [
       "<matplotlib.axes._subplots.AxesSubplot at 0x15fbbc799e8>"
      ]
     },
     "execution_count": 49,
     "metadata": {},
     "output_type": "execute_result"
    },
    {
     "data": {
      "image/png": "[encoded data removed]",
      "text/plain": [
       "<Figure size 432x288 with 1 Axes>"
      ]
     },
     "metadata": {
      "needs_background": "light"
     },
     "output_type": "display_data"
    }
   ],
   "source": [
    "df_real_state_final_2['price_power'].hist(bins=20)"
   ]
  },
  {
   "cell_type": "markdown",
   "metadata": {},
   "source": [
    "The scatter plots above now have the data points more evenly distributed and hence the points are well spread across the regression line. Hence the linearity issue has now been corrected after applying the transformations. The regression line hence is more surrounded by the data points. From the graphs above we can aso see that there exist a negative correlation between the columns and the predictor values. Hence is one increases the other will decrease and if one decreases the other's value will increase. Hence the correlation is depicted from the scatter plots. We can aso use the .corr() of a dataframe to see the correlation exact values between the columns and predictors. Hence after using the transformation techniques, we can say that the linearity assumption for creating the Linear model is satisfied and better column values will be used for creating the model.\n",
    "\n",
    "Looking at the histograms above we can see that after applying the tranformation techniques, the histogram are now showing better normality as the data have been normally distributed now. Hence the right and left skewness that was seen before for the columns, have been removed after applying the transformations. The histograms hence give a bell shaped structure which signifies that the data is normally distributed and hence the Linear model will not be more inclined towards predicting particular values of price. "
   ]
  },
  {
   "cell_type": "markdown",
   "metadata": {},
   "source": [
    " <div class=\"alert alert-block alert-success\">\n",
    "    \n",
    "   ### 2.2.2 DATA NORMALIZATION\n",
    "   </div>\n"
   ]
  },
  {
   "cell_type": "markdown",
   "metadata": {},
   "source": [
    "For the data normalisation, we will use the StandardScaler() approach. This approach is used when the data has been normally distributed and hence the scaling becomes easier to do. The data points will be scaled in a better manner. After applying this approach we will get the mean as 0 and the standard deviation as 1 for the column. This approach also handles outiers as opposed to the MinMax scaling approach. Hence the Zscore scaling is done which firsts takes the columns and applies the fit and transform functions on them. Then the scaled df created wi contain the final values after scaling and hence these would then be used while creating the model. As a result the model will treat all its columns/predictors equally as they are now scaled and hence the readability of the model will increase without effecting the performance of the model. Hence the coefficient values of the model will change accordingly for each predictor. \n",
    "\n",
    "To appy the ZScore Standard Scaling we will follow the below steps - "
   ]
  },
  {
   "cell_type": "code",
   "execution_count": 50,
   "metadata": {},
   "outputs": [],
   "source": [
    "#fitting the given columns into standard scaler()\n",
    "scale = preprocessing.StandardScaler().fit(df_real_state_final_2[['Distance_to_sc_power','travel_min_to_CBD_power',\n",
    "                                                                  'Distance_to_hospital_power','price_power']])\n",
    "df_scaled = scale.transform(df_real_state_final_2[['Distance_to_sc_power','travel_min_to_CBD_power',\n",
    "                                                   'Distance_to_hospital_power','price_power']]) # an array not a df"
   ]
  },
  {
   "cell_type": "code",
   "execution_count": 51,
   "metadata": {},
   "outputs": [],
   "source": [
    "#making columns with scaled values\n",
    "df_real_state_final_2['Distance_to_sc(scaled)'] = df_scaled[:,0]\n",
    "df_real_state_final_2['travel_min_to_CBD(scaled)'] = df_scaled[:,1]\n",
    "df_real_state_final_2['Distance_to_hospital(scaled)'] = df_scaled[:,2]\n",
    "df_real_state_final_2['price(scaled)'] = df_scaled[:,3]\n"
   ]
  },
  {
   "cell_type": "code",
   "execution_count": 52,
   "metadata": {},
   "outputs": [
    {
     "data": {
      "text/html": [
       "<div>\n",
       "<style scoped>\n",
       "    .dataframe tbody tr th:only-of-type {\n",
       "        vertical-align: middle;\n",
       "    }\n",
       "\n",
       "    .dataframe tbody tr th {\n",
       "        vertical-align: top;\n",
       "    }\n",
       "\n",
       "    .dataframe thead th {\n",
       "        text-align: right;\n",
       "    }\n",
       "</style>\n",
       "<table border=\"1\" class=\"dataframe\">\n",
       "  <thead>\n",
       "    <tr style=\"text-align: right;\">\n",
       "      <th></th>\n",
       "      <th>Distance_to_sc</th>\n",
       "      <th>travel_min_to_CBD</th>\n",
       "      <th>Distance_to_hospital</th>\n",
       "      <th>price</th>\n",
       "      <th>Distance_to_sc_power</th>\n",
       "      <th>travel_min_to_CBD_power</th>\n",
       "      <th>Distance_to_hospital_power</th>\n",
       "      <th>price_power</th>\n",
       "      <th>Distance_to_sc(scaled)</th>\n",
       "      <th>travel_min_to_CBD(scaled)</th>\n",
       "      <th>Distance_to_hospital(scaled)</th>\n",
       "      <th>price(scaled)</th>\n",
       "    </tr>\n",
       "  </thead>\n",
       "  <tbody>\n",
       "    <tr>\n",
       "      <th>0</th>\n",
       "      <td>3.124</td>\n",
       "      <td>40</td>\n",
       "      <td>2.757</td>\n",
       "      <td>7920000</td>\n",
       "      <td>1.767484</td>\n",
       "      <td>120.970086</td>\n",
       "      <td>1.402207</td>\n",
       "      <td>23.974250</td>\n",
       "      <td>0.562385</td>\n",
       "      <td>0.468377</td>\n",
       "      <td>0.549150</td>\n",
       "      <td>0.004118</td>\n",
       "    </tr>\n",
       "    <tr>\n",
       "      <th>1</th>\n",
       "      <td>1.274</td>\n",
       "      <td>46</td>\n",
       "      <td>4.989</td>\n",
       "      <td>4970000</td>\n",
       "      <td>1.128716</td>\n",
       "      <td>145.072529</td>\n",
       "      <td>1.708721</td>\n",
       "      <td>21.840938</td>\n",
       "      <td>-0.911761</td>\n",
       "      <td>0.995924</td>\n",
       "      <td>1.481193</td>\n",
       "      <td>-0.794912</td>\n",
       "    </tr>\n",
       "    <tr>\n",
       "      <th>2</th>\n",
       "      <td>2.370</td>\n",
       "      <td>37</td>\n",
       "      <td>2.991</td>\n",
       "      <td>2920000</td>\n",
       "      <td>1.539480</td>\n",
       "      <td>109.310591</td>\n",
       "      <td>1.440806</td>\n",
       "      <td>19.637065</td>\n",
       "      <td>0.036199</td>\n",
       "      <td>0.213178</td>\n",
       "      <td>0.666520</td>\n",
       "      <td>-1.620370</td>\n",
       "    </tr>\n",
       "    <tr>\n",
       "      <th>3</th>\n",
       "      <td>1.700</td>\n",
       "      <td>40</td>\n",
       "      <td>1.731</td>\n",
       "      <td>10245000</td>\n",
       "      <td>1.303840</td>\n",
       "      <td>120.970086</td>\n",
       "      <td>1.200694</td>\n",
       "      <td>25.240758</td>\n",
       "      <td>-0.507610</td>\n",
       "      <td>0.468377</td>\n",
       "      <td>-0.063609</td>\n",
       "      <td>0.478487</td>\n",
       "    </tr>\n",
       "    <tr>\n",
       "      <th>4</th>\n",
       "      <td>0.527</td>\n",
       "      <td>26</td>\n",
       "      <td>2.030</td>\n",
       "      <td>9792000</td>\n",
       "      <td>0.725948</td>\n",
       "      <td>69.097980</td>\n",
       "      <td>1.266189</td>\n",
       "      <td>25.013489</td>\n",
       "      <td>-1.841269</td>\n",
       "      <td>-0.666984</td>\n",
       "      <td>0.135549</td>\n",
       "      <td>0.393363</td>\n",
       "    </tr>\n",
       "    <tr>\n",
       "      <th>...</th>\n",
       "      <td>...</td>\n",
       "      <td>...</td>\n",
       "      <td>...</td>\n",
       "      <td>...</td>\n",
       "      <td>...</td>\n",
       "      <td>...</td>\n",
       "      <td>...</td>\n",
       "      <td>...</td>\n",
       "      <td>...</td>\n",
       "      <td>...</td>\n",
       "      <td>...</td>\n",
       "      <td>...</td>\n",
       "    </tr>\n",
       "    <tr>\n",
       "      <th>1973</th>\n",
       "      <td>1.029</td>\n",
       "      <td>23</td>\n",
       "      <td>1.555</td>\n",
       "      <td>13140000</td>\n",
       "      <td>1.014396</td>\n",
       "      <td>58.917755</td>\n",
       "      <td>1.158538</td>\n",
       "      <td>26.528890</td>\n",
       "      <td>-1.175588</td>\n",
       "      <td>-0.889806</td>\n",
       "      <td>-0.191798</td>\n",
       "      <td>0.960955</td>\n",
       "    </tr>\n",
       "    <tr>\n",
       "      <th>1974</th>\n",
       "      <td>4.685</td>\n",
       "      <td>33</td>\n",
       "      <td>3.200</td>\n",
       "      <td>5211000</td>\n",
       "      <td>2.164486</td>\n",
       "      <td>94.203735</td>\n",
       "      <td>1.473613</td>\n",
       "      <td>22.048762</td>\n",
       "      <td>1.478585</td>\n",
       "      <td>-0.117477</td>\n",
       "      <td>0.766279</td>\n",
       "      <td>-0.717072</td>\n",
       "    </tr>\n",
       "    <tr>\n",
       "      <th>1975</th>\n",
       "      <td>4.379</td>\n",
       "      <td>53</td>\n",
       "      <td>0.218</td>\n",
       "      <td>13580000</td>\n",
       "      <td>2.092606</td>\n",
       "      <td>174.404879</td>\n",
       "      <td>0.601846</td>\n",
       "      <td>26.704223</td>\n",
       "      <td>1.312701</td>\n",
       "      <td>1.637942</td>\n",
       "      <td>-1.884578</td>\n",
       "      <td>1.026626</td>\n",
       "    </tr>\n",
       "    <tr>\n",
       "      <th>1976</th>\n",
       "      <td>1.125</td>\n",
       "      <td>43</td>\n",
       "      <td>0.993</td>\n",
       "      <td>5400000</td>\n",
       "      <td>1.060660</td>\n",
       "      <td>132.895107</td>\n",
       "      <td>0.997661</td>\n",
       "      <td>22.206430</td>\n",
       "      <td>-1.068821</td>\n",
       "      <td>0.729389</td>\n",
       "      <td>-0.680989</td>\n",
       "      <td>-0.658017</td>\n",
       "    </tr>\n",
       "    <tr>\n",
       "      <th>1977</th>\n",
       "      <td>1.684</td>\n",
       "      <td>33</td>\n",
       "      <td>4.732</td>\n",
       "      <td>6435000</td>\n",
       "      <td>1.297690</td>\n",
       "      <td>94.203735</td>\n",
       "      <td>1.678862</td>\n",
       "      <td>22.999040</td>\n",
       "      <td>-0.521803</td>\n",
       "      <td>-0.117477</td>\n",
       "      <td>1.390397</td>\n",
       "      <td>-0.361146</td>\n",
       "    </tr>\n",
       "  </tbody>\n",
       "</table>\n",
       "<p>1978 rows × 12 columns</p>\n",
       "</div>"
      ],
      "text/plain": [
       "      Distance_to_sc  travel_min_to_CBD  Distance_to_hospital     price  \\\n",
       "0              3.124                 40                 2.757   7920000   \n",
       "1              1.274                 46                 4.989   4970000   \n",
       "2              2.370                 37                 2.991   2920000   \n",
       "3              1.700                 40                 1.731  10245000   \n",
       "4              0.527                 26                 2.030   9792000   \n",
       "...              ...                ...                   ...       ...   \n",
       "1973           1.029                 23                 1.555  13140000   \n",
       "1974           4.685                 33                 3.200   5211000   \n",
       "1975           4.379                 53                 0.218  13580000   \n",
       "1976           1.125                 43                 0.993   5400000   \n",
       "1977           1.684                 33                 4.732   6435000   \n",
       "\n",
       "      Distance_to_sc_power  travel_min_to_CBD_power  \\\n",
       "0                 1.767484               120.970086   \n",
       "1                 1.128716               145.072529   \n",
       "2                 1.539480               109.310591   \n",
       "3                 1.303840               120.970086   \n",
       "4                 0.725948                69.097980   \n",
       "...                    ...                      ...   \n",
       "1973              1.014396                58.917755   \n",
       "1974              2.164486                94.203735   \n",
       "1975              2.092606               174.404879   \n",
       "1976              1.060660               132.895107   \n",
       "1977              1.297690                94.203735   \n",
       "\n",
       "      Distance_to_hospital_power  price_power  Distance_to_sc(scaled)  \\\n",
       "0                       1.402207    23.974250                0.562385   \n",
       "1                       1.708721    21.840938               -0.911761   \n",
       "2                       1.440806    19.637065                0.036199   \n",
       "3                       1.200694    25.240758               -0.507610   \n",
       "4                       1.266189    25.013489               -1.841269   \n",
       "...                          ...          ...                     ...   \n",
       "1973                    1.158538    26.528890               -1.175588   \n",
       "1974                    1.473613    22.048762                1.478585   \n",
       "1975                    0.601846    26.704223                1.312701   \n",
       "1976                    0.997661    22.206430               -1.068821   \n",
       "1977                    1.678862    22.999040               -0.521803   \n",
       "\n",
       "      travel_min_to_CBD(scaled)  Distance_to_hospital(scaled)  price(scaled)  \n",
       "0                      0.468377                      0.549150       0.004118  \n",
       "1                      0.995924                      1.481193      -0.794912  \n",
       "2                      0.213178                      0.666520      -1.620370  \n",
       "3                      0.468377                     -0.063609       0.478487  \n",
       "4                     -0.666984                      0.135549       0.393363  \n",
       "...                         ...                           ...            ...  \n",
       "1973                  -0.889806                     -0.191798       0.960955  \n",
       "1974                  -0.117477                      0.766279      -0.717072  \n",
       "1975                   1.637942                     -1.884578       1.026626  \n",
       "1976                   0.729389                     -0.680989      -0.658017  \n",
       "1977                  -0.117477                      1.390397      -0.361146  \n",
       "\n",
       "[1978 rows x 12 columns]"
      ]
     },
     "execution_count": 52,
     "metadata": {},
     "output_type": "execute_result"
    }
   ],
   "source": [
    "df_real_state_final_2"
   ]
  },
  {
   "cell_type": "code",
   "execution_count": 53,
   "metadata": {
    "scrolled": true
   },
   "outputs": [
    {
     "data": {
      "text/html": [
       "<div>\n",
       "<style scoped>\n",
       "    .dataframe tbody tr th:only-of-type {\n",
       "        vertical-align: middle;\n",
       "    }\n",
       "\n",
       "    .dataframe tbody tr th {\n",
       "        vertical-align: top;\n",
       "    }\n",
       "\n",
       "    .dataframe thead th {\n",
       "        text-align: right;\n",
       "    }\n",
       "</style>\n",
       "<table border=\"1\" class=\"dataframe\">\n",
       "  <thead>\n",
       "    <tr style=\"text-align: right;\">\n",
       "      <th></th>\n",
       "      <th>Distance_to_sc</th>\n",
       "      <th>travel_min_to_CBD</th>\n",
       "      <th>Distance_to_hospital</th>\n",
       "      <th>price</th>\n",
       "      <th>Distance_to_sc_power</th>\n",
       "      <th>travel_min_to_CBD_power</th>\n",
       "      <th>Distance_to_hospital_power</th>\n",
       "      <th>price_power</th>\n",
       "      <th>Distance_to_sc(scaled)</th>\n",
       "      <th>travel_min_to_CBD(scaled)</th>\n",
       "      <th>Distance_to_hospital(scaled)</th>\n",
       "      <th>price(scaled)</th>\n",
       "    </tr>\n",
       "  </thead>\n",
       "  <tbody>\n",
       "    <tr>\n",
       "      <th>count</th>\n",
       "      <td>1978.000000</td>\n",
       "      <td>1978.000000</td>\n",
       "      <td>1978.000000</td>\n",
       "      <td>1.978000e+03</td>\n",
       "      <td>1978.000000</td>\n",
       "      <td>1978.000000</td>\n",
       "      <td>1978.000000</td>\n",
       "      <td>1978.000000</td>\n",
       "      <td>1.978000e+03</td>\n",
       "      <td>1.978000e+03</td>\n",
       "      <td>1.978000e+03</td>\n",
       "      <td>1.978000e+03</td>\n",
       "    </tr>\n",
       "    <tr>\n",
       "      <th>mean</th>\n",
       "      <td>2.509711</td>\n",
       "      <td>33.724469</td>\n",
       "      <td>2.233648</td>\n",
       "      <td>8.958297e+06</td>\n",
       "      <td>1.523795</td>\n",
       "      <td>99.570978</td>\n",
       "      <td>1.221613</td>\n",
       "      <td>23.963257</td>\n",
       "      <td>-1.627167e-16</td>\n",
       "      <td>2.943733e-16</td>\n",
       "      <td>4.175965e-16</td>\n",
       "      <td>7.153305e-16</td>\n",
       "    </tr>\n",
       "    <tr>\n",
       "      <th>std</th>\n",
       "      <td>1.352683</td>\n",
       "      <td>12.396559</td>\n",
       "      <td>1.824723</td>\n",
       "      <td>5.513052e+06</td>\n",
       "      <td>0.433423</td>\n",
       "      <td>45.699305</td>\n",
       "      <td>0.328945</td>\n",
       "      <td>2.670554</td>\n",
       "      <td>1.000253e+00</td>\n",
       "      <td>1.000253e+00</td>\n",
       "      <td>1.000253e+00</td>\n",
       "      <td>1.000253e+00</td>\n",
       "    </tr>\n",
       "    <tr>\n",
       "      <th>min</th>\n",
       "      <td>0.100000</td>\n",
       "      <td>0.000000</td>\n",
       "      <td>0.039000</td>\n",
       "      <td>1.360000e+06</td>\n",
       "      <td>0.316228</td>\n",
       "      <td>0.000000</td>\n",
       "      <td>0.339121</td>\n",
       "      <td>16.854186</td>\n",
       "      <td>-2.786819e+00</td>\n",
       "      <td>-2.179380e+00</td>\n",
       "      <td>-2.683469e+00</td>\n",
       "      <td>-2.662694e+00</td>\n",
       "    </tr>\n",
       "    <tr>\n",
       "      <th>25%</th>\n",
       "      <td>1.457000</td>\n",
       "      <td>24.000000</td>\n",
       "      <td>0.983250</td>\n",
       "      <td>5.213250e+06</td>\n",
       "      <td>1.207063</td>\n",
       "      <td>62.269390</td>\n",
       "      <td>0.994385</td>\n",
       "      <td>22.050665</td>\n",
       "      <td>-7.309536e-01</td>\n",
       "      <td>-8.164461e-01</td>\n",
       "      <td>-6.909502e-01</td>\n",
       "      <td>-7.163591e-01</td>\n",
       "    </tr>\n",
       "    <tr>\n",
       "      <th>50%</th>\n",
       "      <td>2.237000</td>\n",
       "      <td>34.000000</td>\n",
       "      <td>1.733500</td>\n",
       "      <td>7.509500e+06</td>\n",
       "      <td>1.495660</td>\n",
       "      <td>97.931542</td>\n",
       "      <td>1.201272</td>\n",
       "      <td>23.720410</td>\n",
       "      <td>-6.492846e-02</td>\n",
       "      <td>-3.588350e-02</td>\n",
       "      <td>-6.185281e-02</td>\n",
       "      <td>-9.095815e-02</td>\n",
       "    </tr>\n",
       "    <tr>\n",
       "      <th>75%</th>\n",
       "      <td>3.348250</td>\n",
       "      <td>41.000000</td>\n",
       "      <td>2.785000</td>\n",
       "      <td>1.089925e+07</td>\n",
       "      <td>1.829822</td>\n",
       "      <td>124.916272</td>\n",
       "      <td>1.406938</td>\n",
       "      <td>25.555202</td>\n",
       "      <td>7.062494e-01</td>\n",
       "      <td>5.547503e-01</td>\n",
       "      <td>5.635363e-01</td>\n",
       "      <td>5.962613e-01</td>\n",
       "    </tr>\n",
       "    <tr>\n",
       "      <th>max</th>\n",
       "      <td>5.974000</td>\n",
       "      <td>60.000000</td>\n",
       "      <td>9.370000</td>\n",
       "      <td>4.240000e+07</td>\n",
       "      <td>2.444177</td>\n",
       "      <td>204.925794</td>\n",
       "      <td>2.108207</td>\n",
       "      <td>33.533059</td>\n",
       "      <td>2.124054e+00</td>\n",
       "      <td>2.305975e+00</td>\n",
       "      <td>2.695944e+00</td>\n",
       "      <td>3.584358e+00</td>\n",
       "    </tr>\n",
       "  </tbody>\n",
       "</table>\n",
       "</div>"
      ],
      "text/plain": [
       "       Distance_to_sc  travel_min_to_CBD  Distance_to_hospital         price  \\\n",
       "count     1978.000000        1978.000000           1978.000000  1.978000e+03   \n",
       "mean         2.509711          33.724469              2.233648  8.958297e+06   \n",
       "std          1.352683          12.396559              1.824723  5.513052e+06   \n",
       "min          0.100000           0.000000              0.039000  1.360000e+06   \n",
       "25%          1.457000          24.000000              0.983250  5.213250e+06   \n",
       "50%          2.237000          34.000000              1.733500  7.509500e+06   \n",
       "75%          3.348250          41.000000              2.785000  1.089925e+07   \n",
       "max          5.974000          60.000000              9.370000  4.240000e+07   \n",
       "\n",
       "       Distance_to_sc_power  travel_min_to_CBD_power  \\\n",
       "count           1978.000000              1978.000000   \n",
       "mean               1.523795                99.570978   \n",
       "std                0.433423                45.699305   \n",
       "min                0.316228                 0.000000   \n",
       "25%                1.207063                62.269390   \n",
       "50%                1.495660                97.931542   \n",
       "75%                1.829822               124.916272   \n",
       "max                2.444177               204.925794   \n",
       "\n",
       "       Distance_to_hospital_power  price_power  Distance_to_sc(scaled)  \\\n",
       "count                 1978.000000  1978.000000            1.978000e+03   \n",
       "mean                     1.221613    23.963257           -1.627167e-16   \n",
       "std                      0.328945     2.670554            1.000253e+00   \n",
       "min                      0.339121    16.854186           -2.786819e+00   \n",
       "25%                      0.994385    22.050665           -7.309536e-01   \n",
       "50%                      1.201272    23.720410           -6.492846e-02   \n",
       "75%                      1.406938    25.555202            7.062494e-01   \n",
       "max                      2.108207    33.533059            2.124054e+00   \n",
       "\n",
       "       travel_min_to_CBD(scaled)  Distance_to_hospital(scaled)  price(scaled)  \n",
       "count               1.978000e+03                  1.978000e+03   1.978000e+03  \n",
       "mean                2.943733e-16                  4.175965e-16   7.153305e-16  \n",
       "std                 1.000253e+00                  1.000253e+00   1.000253e+00  \n",
       "min                -2.179380e+00                 -2.683469e+00  -2.662694e+00  \n",
       "25%                -8.164461e-01                 -6.909502e-01  -7.163591e-01  \n",
       "50%                -3.588350e-02                 -6.185281e-02  -9.095815e-02  \n",
       "75%                 5.547503e-01                  5.635363e-01   5.962613e-01  \n",
       "max                 2.305975e+00                  2.695944e+00   3.584358e+00  "
      ]
     },
     "execution_count": 53,
     "metadata": {},
     "output_type": "execute_result"
    }
   ],
   "source": [
    "#describing the dataframe\n",
    "df_real_state_final_2.describe()"
   ]
  },
  {
   "cell_type": "markdown",
   "metadata": {},
   "source": [
    "\n",
    " <div class=\"alert alert-block alert-success\">\n",
    "    \n",
    "   ### 2.2.3 Compare the variables before and after normalization with plots\n",
    "\n",
    "   </div>\n"
   ]
  },
  {
   "cell_type": "code",
   "execution_count": 54,
   "metadata": {},
   "outputs": [
    {
     "data": {
      "text/plain": [
       "<matplotlib.axes._subplots.AxesSubplot at 0x15fbbb45898>"
      ]
     },
     "execution_count": 54,
     "metadata": {},
     "output_type": "execute_result"
    },
    {
     "data": {
      "image/png": "[encoded data removed]",
      "text/plain": [
       "<Figure size 432x288 with 1 Axes>"
      ]
     },
     "metadata": {
      "needs_background": "light"
     },
     "output_type": "display_data"
    }
   ],
   "source": [
    "df_real_state_final_2[\"Distance_to_sc_power\"].plot()"
   ]
  },
  {
   "cell_type": "code",
   "execution_count": 55,
   "metadata": {},
   "outputs": [
    {
     "data": {
      "text/plain": [
       "<matplotlib.axes._subplots.AxesSubplot at 0x15fbbd80e80>"
      ]
     },
     "execution_count": 55,
     "metadata": {},
     "output_type": "execute_result"
    },
    {
     "data": {
      "image/png": "[encoded data removed]",
      "text/plain": [
       "<Figure size 432x288 with 1 Axes>"
      ]
     },
     "metadata": {
      "needs_background": "light"
     },
     "output_type": "display_data"
    }
   ],
   "source": [
    "df_real_state_final_2[\"travel_min_to_CBD_power\"].plot()"
   ]
  },
  {
   "cell_type": "code",
   "execution_count": 56,
   "metadata": {},
   "outputs": [
    {
     "data": {
      "text/plain": [
       "<matplotlib.axes._subplots.AxesSubplot at 0x15fbbdb0da0>"
      ]
     },
     "execution_count": 56,
     "metadata": {},
     "output_type": "execute_result"
    },
    {
     "data": {
      "image/png": "[encoded data removed]",
      "text/plain": [
       "<Figure size 432x288 with 1 Axes>"
      ]
     },
     "metadata": {
      "needs_background": "light"
     },
     "output_type": "display_data"
    }
   ],
   "source": [
    "df_real_state_final_2[\"Distance_to_hospital_power\"].plot()"
   ]
  },
  {
   "cell_type": "code",
   "execution_count": 57,
   "metadata": {},
   "outputs": [
    {
     "data": {
      "text/plain": [
       "<matplotlib.axes._subplots.AxesSubplot at 0x15fbbdf8390>"
      ]
     },
     "execution_count": 57,
     "metadata": {},
     "output_type": "execute_result"
    },
    {
     "data": {
      "image/png": "[encoded data removed]",
      "text/plain": [
       "<Figure size 432x288 with 1 Axes>"
      ]
     },
     "metadata": {
      "needs_background": "light"
     },
     "output_type": "display_data"
    }
   ],
   "source": [
    "df_real_state_final_2[\"price_power\"].plot()"
   ]
  },
  {
   "cell_type": "code",
   "execution_count": 58,
   "metadata": {},
   "outputs": [
    {
     "data": {
      "text/plain": [
       "(<matplotlib.axes._subplots.AxesSubplot at 0x15fbbe7dcf8>,\n",
       " <matplotlib.axes._subplots.AxesSubplot at 0x15fbbe7dcf8>)"
      ]
     },
     "execution_count": 58,
     "metadata": {},
     "output_type": "execute_result"
    },
    {
     "data": {
      "image/png": "[encoded data removed]",
      "text/plain": [
       "<Figure size 432x288 with 1 Axes>"
      ]
     },
     "metadata": {
      "needs_background": "light"
     },
     "output_type": "display_data"
    }
   ],
   "source": [
    "df_real_state_final_2[\"Distance_to_sc(scaled)\"].plot(),df_real_state_final_2[\"travel_min_to_CBD(scaled)\"].plot(),\n",
    "df_real_state_final_2[\"Distance_to_hospital(scaled)\"].plot(),df_real_state_final_2[\"price(scaled)\"].plot()"
   ]
  },
  {
   "cell_type": "markdown",
   "metadata": {},
   "source": [
    "Hence if were trying to plot the graphs for the not scaled data, we could not plot it in one graph because the scales on y axis are very different and varying from each other. As a result the plotting could not even be seen visely in a single graph. \n",
    "\n",
    "Then we plotted the scaled values on a single graph and we could plot them together. Hence because of scaling the graph has been depicted together. Also after this approach we can see that the shape or distribution of the data never changes, we only change the scale of the data. Hence after StandardScaling approach, we have been abe to scale the data well which would be used in model creation. \n",
    "\n",
    "The final columns are the scaled columns i.e Distance_to_sc(scaled),travel_min_to_CBD(scaled),Distance_to_hospital(scaled),price(scaled)\n"
   ]
  },
  {
   "cell_type": "markdown",
   "metadata": {},
   "source": [
    " <div class=\"alert alert-block alert-success\">\n",
    "    \n",
    "  ### 3 Summary"
   ]
  },
  {
   "cell_type": "markdown",
   "metadata": {},
   "source": [
    "TASK 1 - \n",
    "\n",
    "In this we task we have 7 different files wih different formats i.e json,pdf,xml,html,shape files etc into dataframe. With the help of this dataframes we have found out the nearest train station id, nearest shopping center, nearest supermarket, nearest hosipitals with their minimum distance from the property given. With teh haversine formula the distance is being calculated and the nearest ids is also being filled with the haverson formula.\n",
    "\n",
    "Minimum distance to CBD is also calculated with some filters according to the given specifiaction and calculating the flag value 1 if there is no direct transfer and 0 if there is a direct transfer.\n",
    "\n",
    "\n",
    "TASK 2 - \n",
    "\n",
    "In the task 2 we have to reshape the data with different techiques which involves normalization/scaling and transformation techiques on the dataframe which contains only the three columns i.e Distance_to_sc,travel_min_to_CBD,Distance_to_hospital and price. The reason we have to perform some techiques on this dataframe havinbg the specific column because we assume that this data will be used to make a linear model to predict the price with the help of the the coloumn of the dataframe."
   ]
  }
 ],
 "metadata": {
  "kernelspec": {
   "display_name": "Python 3",
   "language": "python",
   "name": "python3"
  },
  "language_info": {
   "codemirror_mode": {
    "name": "ipython",
    "version": 3
   },
   "file_extension": ".py",
   "mimetype": "text/x-python",
   "name": "python",
   "nbconvert_exporter": "python",
   "pygments_lexer": "ipython3",
   "version": "3.7.3"
  }
 },
 "nbformat": 4,
 "nbformat_minor": 2
}
